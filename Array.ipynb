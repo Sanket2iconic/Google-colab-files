{
  "nbformat": 4,
  "nbformat_minor": 0,
  "metadata": {
    "colab": {
      "provenance": [],
      "authorship_tag": "ABX9TyOPtwr1TlTjIB7kOh6mmDwQ",
      "include_colab_link": true
    },
    "kernelspec": {
      "name": "python3",
      "display_name": "Python 3"
    },
    "language_info": {
      "name": "python"
    }
  },
  "cells": [
    {
      "cell_type": "markdown",
      "metadata": {
        "id": "view-in-github",
        "colab_type": "text"
      },
      "source": [
        "<a href=\"https://colab.research.google.com/github/Sanket2iconic/Google-colab-files/blob/main/Array.ipynb\" target=\"_parent\"><img src=\"https://colab.research.google.com/assets/colab-badge.svg\" alt=\"Open In Colab\"/></a>"
      ]
    },
    {
      "cell_type": "code",
      "execution_count": 7,
      "metadata": {
        "colab": {
          "base_uri": "https://localhost:8080/"
        },
        "id": "PhCHPUqx1vdx",
        "outputId": "c6168ba2-be6e-45ae-9c7c-b07ebdb72edb"
      },
      "outputs": [
        {
          "output_type": "stream",
          "name": "stdout",
          "text": [
            "array('i', [1, 2, 3, 4, 5])\n",
            "<class 'array.array'>\n"
          ]
        }
      ],
      "source": [
        "import array\n",
        "x1=array.array(\"i\",[1,2,3,4,5])\n",
        "print(x1)\n",
        "print(type(x1))"
      ]
    },
    {
      "cell_type": "code",
      "source": [
        "x2=array.array(\"f\",[1.1,1.2,1.3,1.4,1.55])\n",
        "print(x2)\n",
        "print(type(x2))"
      ],
      "metadata": {
        "colab": {
          "base_uri": "https://localhost:8080/"
        },
        "id": "RseD542d19Mx",
        "outputId": "a738e566-fa92-4ccb-fda5-6f9fa22bfd12"
      },
      "execution_count": 14,
      "outputs": [
        {
          "output_type": "stream",
          "name": "stdout",
          "text": [
            "array('f', [1.100000023841858, 1.2000000476837158, 1.2999999523162842, 1.399999976158142, 1.5499999523162842])\n",
            "<class 'array.array'>\n"
          ]
        }
      ]
    },
    {
      "cell_type": "code",
      "source": [
        "import array\n",
        "x3=array.array(\"u\",[\"a\",\"b\",\"c\"])\n",
        "print(x3)\n",
        "print(type(x3))\n",
        "print(id(x3))\n",
        "add,len=x3.buffer_info()\n",
        "print(add) #pincode / uniq id of the array\n",
        "print(len) #lenghth of array\n",
        "print(hex(add))\n",
        "print(x3.itemsize) # a size is 4"
      ],
      "metadata": {
        "colab": {
          "base_uri": "https://localhost:8080/"
        },
        "id": "ofxd75Gi2oHh",
        "outputId": "c02e663a-f220-4bfc-fed2-f7ac2ee818b3"
      },
      "execution_count": 26,
      "outputs": [
        {
          "output_type": "stream",
          "name": "stdout",
          "text": [
            "array('u', 'abc')\n",
            "<class 'array.array'>\n",
            "139288660886128\n",
            "139288665476944\n",
            "3\n",
            "0x7eaeab6d4f50\n",
            "4\n"
          ]
        }
      ]
    },
    {
      "cell_type": "code",
      "source": [
        "import numpy as np"
      ],
      "metadata": {
        "id": "PhTgSUTZ6cZv"
      },
      "execution_count": 36,
      "outputs": []
    },
    {
      "cell_type": "code",
      "source": [
        "#how to store a single element"
      ],
      "metadata": {
        "id": "r12_ysiA8BAE"
      },
      "execution_count": 29,
      "outputs": []
    },
    {
      "cell_type": "code",
      "source": [
        "arr1=np.array(100)\n",
        "print(arr1)\n",
        "print(type(arr1))"
      ],
      "metadata": {
        "colab": {
          "base_uri": "https://localhost:8080/"
        },
        "id": "PtAyLZxd8rZX",
        "outputId": "4760c7b6-9553-4273-8d23-ec4ffa2f0e53"
      },
      "execution_count": 39,
      "outputs": [
        {
          "output_type": "stream",
          "name": "stdout",
          "text": [
            "100\n",
            "<class 'numpy.ndarray'>\n"
          ]
        }
      ]
    },
    {
      "cell_type": "code",
      "source": [
        "print(arr1.ndim)"
      ],
      "metadata": {
        "colab": {
          "base_uri": "https://localhost:8080/"
        },
        "id": "83E97IiH82NR",
        "outputId": "f8e55ed0-ba51-4897-bf6b-2891be9be60f"
      },
      "execution_count": 40,
      "outputs": [
        {
          "output_type": "stream",
          "name": "stdout",
          "text": [
            "0\n"
          ]
        }
      ]
    },
    {
      "cell_type": "code",
      "source": [
        "a=[1,2,3,4,5,6]\n",
        "arr2=np.array(a)\n",
        "print(arr2)\n",
        "print(type(arr2))\n",
        "print(arr2.ndim) #dimention\n",
        "print(arr2.shape) #shape r*c\n",
        "print(arr2.size) #size len\n",
        "print(arr2.dtype) #datatype"
      ],
      "metadata": {
        "colab": {
          "base_uri": "https://localhost:8080/"
        },
        "id": "UD4p9aep_fDC",
        "outputId": "e93e9484-aa8a-4b4d-b381-787d38036c30"
      },
      "execution_count": 45,
      "outputs": [
        {
          "output_type": "stream",
          "name": "stdout",
          "text": [
            "[1 2 3 4 5 6]\n",
            "<class 'numpy.ndarray'>\n",
            "1\n",
            "(6,)\n",
            "6\n",
            "int64\n"
          ]
        }
      ]
    },
    {
      "cell_type": "code",
      "source": [
        "#create a array using tuple of values\n",
        "a=(1,2,3,4,5)\n",
        "arr3=np.array(a)\n",
        "print(arr3)\n",
        "print(type(arr3))\n",
        "print(arr3.ndim) #dimention\n",
        "print(arr3.shape) #shape r*c\n",
        "print(arr3.size) #size len\n",
        "print(arr3.dtype) #datatype"
      ],
      "metadata": {
        "colab": {
          "base_uri": "https://localhost:8080/"
        },
        "id": "qYqmcBGBU00p",
        "outputId": "c6aac07a-82ea-40d0-a754-27b7e6d1cedb"
      },
      "execution_count": 46,
      "outputs": [
        {
          "output_type": "stream",
          "name": "stdout",
          "text": [
            "[1 2 3 4 5]\n",
            "<class 'numpy.ndarray'>\n",
            "1\n",
            "(5,)\n",
            "5\n",
            "int64\n"
          ]
        }
      ]
    },
    {
      "cell_type": "code",
      "source": [
        "b=np.array([1,2,3,4])\n",
        "print(b)\n",
        "print(type(b))\n",
        "print(b.ndim) #dimention\n",
        "print(b.shape) #shape r*c\n",
        "print(b.size) #size len\n",
        "print(b.dtype) #datatype"
      ],
      "metadata": {
        "colab": {
          "base_uri": "https://localhost:8080/"
        },
        "id": "PgoUTiE1VRg9",
        "outputId": "f4f380b0-194b-418e-f8ec-d17e16b36595"
      },
      "execution_count": 47,
      "outputs": [
        {
          "output_type": "stream",
          "name": "stdout",
          "text": [
            "[1 2 3 4]\n",
            "<class 'numpy.ndarray'>\n",
            "1\n",
            "(4,)\n",
            "4\n",
            "int64\n"
          ]
        }
      ]
    }
  ]
}