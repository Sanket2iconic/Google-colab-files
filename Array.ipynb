{
  "nbformat": 4,
  "nbformat_minor": 0,
  "metadata": {
    "colab": {
      "provenance": [],
      "authorship_tag": "ABX9TyNUuiNbX+j+6HdyBx+aO6Ur",
      "include_colab_link": true
    },
    "kernelspec": {
      "name": "python3",
      "display_name": "Python 3"
    },
    "language_info": {
      "name": "python"
    }
  },
  "cells": [
    {
      "cell_type": "markdown",
      "metadata": {
        "id": "view-in-github",
        "colab_type": "text"
      },
      "source": [
        "<a href=\"https://colab.research.google.com/github/Sanket2iconic/Google-colab-files/blob/main/Array.ipynb\" target=\"_parent\"><img src=\"https://colab.research.google.com/assets/colab-badge.svg\" alt=\"Open In Colab\"/></a>"
      ]
    },
    {
      "cell_type": "code",
      "execution_count": null,
      "metadata": {
        "colab": {
          "base_uri": "https://localhost:8080/"
        },
        "id": "PhCHPUqx1vdx",
        "outputId": "c6168ba2-be6e-45ae-9c7c-b07ebdb72edb"
      },
      "outputs": [
        {
          "output_type": "stream",
          "name": "stdout",
          "text": [
            "array('i', [1, 2, 3, 4, 5])\n",
            "<class 'array.array'>\n"
          ]
        }
      ],
      "source": [
        "import array\n",
        "x1=array.array(\"i\",[1,2,3,4,5])\n",
        "print(x1)\n",
        "print(type(x1))"
      ]
    },
    {
      "cell_type": "code",
      "source": [
        "x2=array.array(\"f\",[1.1,1.2,1.3,1.4,1.55])\n",
        "print(x2)\n",
        "print(type(x2))"
      ],
      "metadata": {
        "colab": {
          "base_uri": "https://localhost:8080/"
        },
        "id": "RseD542d19Mx",
        "outputId": "a738e566-fa92-4ccb-fda5-6f9fa22bfd12"
      },
      "execution_count": null,
      "outputs": [
        {
          "output_type": "stream",
          "name": "stdout",
          "text": [
            "array('f', [1.100000023841858, 1.2000000476837158, 1.2999999523162842, 1.399999976158142, 1.5499999523162842])\n",
            "<class 'array.array'>\n"
          ]
        }
      ]
    },
    {
      "cell_type": "code",
      "source": [
        "import array\n",
        "x3=array.array(\"u\",[\"a\",\"b\",\"c\"])\n",
        "print(x3)\n",
        "print(type(x3))\n",
        "print(id(x3))\n",
        "add,len=x3.buffer_info()\n",
        "print(add) #pincode / uniq id of the array\n",
        "print(len) #lenghth of array\n",
        "print(hex(add))\n",
        "print(x3.itemsize) # a size is 4"
      ],
      "metadata": {
        "colab": {
          "base_uri": "https://localhost:8080/"
        },
        "id": "ofxd75Gi2oHh",
        "outputId": "c02e663a-f220-4bfc-fed2-f7ac2ee818b3"
      },
      "execution_count": null,
      "outputs": [
        {
          "output_type": "stream",
          "name": "stdout",
          "text": [
            "array('u', 'abc')\n",
            "<class 'array.array'>\n",
            "139288660886128\n",
            "139288665476944\n",
            "3\n",
            "0x7eaeab6d4f50\n",
            "4\n"
          ]
        }
      ]
    },
    {
      "cell_type": "code",
      "source": [
        "import numpy as np"
      ],
      "metadata": {
        "id": "PhTgSUTZ6cZv"
      },
      "execution_count": 1,
      "outputs": []
    },
    {
      "cell_type": "code",
      "source": [
        "#how to store a single element"
      ],
      "metadata": {
        "id": "r12_ysiA8BAE"
      },
      "execution_count": null,
      "outputs": []
    },
    {
      "cell_type": "code",
      "source": [
        "arr1=np.array(100)\n",
        "print(arr1)\n",
        "print(type(arr1))"
      ],
      "metadata": {
        "colab": {
          "base_uri": "https://localhost:8080/"
        },
        "id": "PtAyLZxd8rZX",
        "outputId": "4760c7b6-9553-4273-8d23-ec4ffa2f0e53"
      },
      "execution_count": null,
      "outputs": [
        {
          "output_type": "stream",
          "name": "stdout",
          "text": [
            "100\n",
            "<class 'numpy.ndarray'>\n"
          ]
        }
      ]
    },
    {
      "cell_type": "code",
      "source": [
        "print(arr1.ndim)"
      ],
      "metadata": {
        "colab": {
          "base_uri": "https://localhost:8080/"
        },
        "id": "83E97IiH82NR",
        "outputId": "f8e55ed0-ba51-4897-bf6b-2891be9be60f"
      },
      "execution_count": null,
      "outputs": [
        {
          "output_type": "stream",
          "name": "stdout",
          "text": [
            "0\n"
          ]
        }
      ]
    },
    {
      "cell_type": "code",
      "source": [
        "a=[1,2,3,4,5,6]\n",
        "arr2=np.array(a)\n",
        "print(arr2)\n",
        "print(type(arr2))\n",
        "print(arr2.ndim) #dimention\n",
        "print(arr2.shape) #shape r*c\n",
        "print(arr2.size) #size len\n",
        "print(arr2.dtype) #datatype"
      ],
      "metadata": {
        "colab": {
          "base_uri": "https://localhost:8080/"
        },
        "id": "UD4p9aep_fDC",
        "outputId": "e93e9484-aa8a-4b4d-b381-787d38036c30"
      },
      "execution_count": null,
      "outputs": [
        {
          "output_type": "stream",
          "name": "stdout",
          "text": [
            "[1 2 3 4 5 6]\n",
            "<class 'numpy.ndarray'>\n",
            "1\n",
            "(6,)\n",
            "6\n",
            "int64\n"
          ]
        }
      ]
    },
    {
      "cell_type": "code",
      "source": [
        "#create a array using tuple of values\n",
        "a=(1,2,3,4,5)\n",
        "arr3=np.array(a)\n",
        "print(arr3)\n",
        "print(type(arr3))\n",
        "print(arr3.ndim) #dimention\n",
        "print(arr3.shape) #shape r*c\n",
        "print(arr3.size) #size len\n",
        "print(arr3.dtype) #datatype"
      ],
      "metadata": {
        "colab": {
          "base_uri": "https://localhost:8080/"
        },
        "id": "qYqmcBGBU00p",
        "outputId": "c6aac07a-82ea-40d0-a754-27b7e6d1cedb"
      },
      "execution_count": null,
      "outputs": [
        {
          "output_type": "stream",
          "name": "stdout",
          "text": [
            "[1 2 3 4 5]\n",
            "<class 'numpy.ndarray'>\n",
            "1\n",
            "(5,)\n",
            "5\n",
            "int64\n"
          ]
        }
      ]
    },
    {
      "cell_type": "code",
      "source": [
        "b=np.array([1,2,3,4])\n",
        "print(b)\n",
        "print(type(b))\n",
        "print(b.ndim) #dimention\n",
        "print(b.shape) #shape r*c\n",
        "print(b.size) #size len\n",
        "print(b.dtype) #datatype"
      ],
      "metadata": {
        "colab": {
          "base_uri": "https://localhost:8080/"
        },
        "id": "PgoUTiE1VRg9",
        "outputId": "f4f380b0-194b-418e-f8ec-d17e16b36595"
      },
      "execution_count": null,
      "outputs": [
        {
          "output_type": "stream",
          "name": "stdout",
          "text": [
            "[1 2 3 4]\n",
            "<class 'numpy.ndarray'>\n",
            "1\n",
            "(4,)\n",
            "4\n",
            "int64\n"
          ]
        }
      ]
    },
    {
      "cell_type": "markdown",
      "source": [
        "#2D arrays"
      ],
      "metadata": {
        "id": "7cXakFG9W6yE"
      }
    },
    {
      "cell_type": "code",
      "source": [
        "a=[[1,2,3],[4,5,6],[7,8,9]]\n",
        "a1=np.array(a)\n",
        "print(a1)\n",
        "print(type(a1))\n",
        "print(a1.ndim)\n",
        "print(a1.shape)\n",
        "print(a1.size)\n",
        "print(a1.dtype)"
      ],
      "metadata": {
        "colab": {
          "base_uri": "https://localhost:8080/"
        },
        "id": "C2zaVwgwW6fi",
        "outputId": "81722e52-7de2-4cbc-dc28-41404e465526"
      },
      "execution_count": null,
      "outputs": [
        {
          "output_type": "stream",
          "name": "stdout",
          "text": [
            "[[1 2 3]\n",
            " [4 5 6]\n",
            " [7 8 9]]\n",
            "<class 'numpy.ndarray'>\n",
            "2\n",
            "(3, 3)\n",
            "9\n",
            "int64\n"
          ]
        }
      ]
    },
    {
      "cell_type": "code",
      "source": [
        "a=[[1,2,3,4],[5,6,7,8],[9,10,11,12],[13,14,15,16]]\n",
        "a1=np.array(a)\n",
        "print(a1)\n",
        "print(type(a1))\n",
        "print(a1.ndim)\n",
        "print(a1.shape)\n",
        "print(a1.size)\n",
        "print(a1.dtype)"
      ],
      "metadata": {
        "colab": {
          "base_uri": "https://localhost:8080/"
        },
        "id": "gUCdhS9JXYeC",
        "outputId": "f96dbab0-32e2-4d97-8b8a-cbab9cccbabe"
      },
      "execution_count": null,
      "outputs": [
        {
          "output_type": "stream",
          "name": "stdout",
          "text": [
            "[[ 1  2  3  4]\n",
            " [ 5  6  7  8]\n",
            " [ 9 10 11 12]\n",
            " [13 14 15 16]]\n",
            "<class 'numpy.ndarray'>\n",
            "2\n",
            "(4, 4)\n",
            "16\n",
            "int64\n"
          ]
        }
      ]
    },
    {
      "cell_type": "code",
      "source": [
        "arr = [1, 2, 3, 4, 5]\n",
        "print(arr[2])"
      ],
      "metadata": {
        "colab": {
          "base_uri": "https://localhost:8080/"
        },
        "id": "CsSdhgX2adhj",
        "outputId": "a2ad4fef-9b1c-4498-a0e3-ce76c982e529"
      },
      "execution_count": null,
      "outputs": [
        {
          "output_type": "stream",
          "name": "stdout",
          "text": [
            "3\n"
          ]
        }
      ]
    },
    {
      "cell_type": "code",
      "source": [
        "import array\n",
        "arr = array.array('i', [1, 2, 3])\n",
        "arr.append(4)\n",
        "print(arr)"
      ],
      "metadata": {
        "colab": {
          "base_uri": "https://localhost:8080/"
        },
        "id": "kJQi1QuUbHFL",
        "outputId": "0a990aed-ab7f-4ca5-9385-7d894d6f95b3"
      },
      "execution_count": null,
      "outputs": [
        {
          "output_type": "stream",
          "name": "stdout",
          "text": [
            "array('i', [1, 2, 3])\n"
          ]
        }
      ]
    },
    {
      "cell_type": "markdown",
      "source": [
        "#traversal\n",
        " to iterate over an array to print all elemnts of an array"
      ],
      "metadata": {
        "id": "agRDImwpiLeq"
      }
    },
    {
      "cell_type": "code",
      "source": [
        "arr=np.array([1,2,3,4,5])\n",
        "print(arr)\n",
        "for i in arr:\n",
        "  if i > 1:\n",
        "    print(i)\n"
      ],
      "metadata": {
        "colab": {
          "base_uri": "https://localhost:8080/"
        },
        "id": "gARbcsoDiM72",
        "outputId": "ebb91060-4634-4239-d603-9dd368e79149"
      },
      "execution_count": null,
      "outputs": [
        {
          "output_type": "stream",
          "name": "stdout",
          "text": [
            "[1 2 3 4 5]\n",
            "2\n",
            "3\n",
            "4\n",
            "5\n"
          ]
        }
      ]
    },
    {
      "cell_type": "code",
      "source": [
        "a1=np.array([1,2,3,4,5,6,7,8,9,10])\n",
        "#program to find even numbers\n",
        "for i in a1:\n",
        "  if i%2==0:\n",
        "    print(i)"
      ],
      "metadata": {
        "colab": {
          "base_uri": "https://localhost:8080/"
        },
        "id": "Inpxzuzlipnf",
        "outputId": "9f9106f0-0a82-48e0-e199-4564697bb6aa"
      },
      "execution_count": null,
      "outputs": [
        {
          "output_type": "stream",
          "name": "stdout",
          "text": [
            "2\n",
            "4\n",
            "6\n",
            "8\n",
            "10\n"
          ]
        }
      ]
    },
    {
      "cell_type": "code",
      "source": [
        "a1=np.array([1,2,3,4,5,6,7,8,9,10])\n",
        "#program to find even numbers\n",
        "arr1=(i for i in a1 if i % 2 == 0)\n",
        "print(list(arr1))"
      ],
      "metadata": {
        "colab": {
          "base_uri": "https://localhost:8080/"
        },
        "id": "qvdrff6njU3r",
        "outputId": "21727c90-d72a-49e9-f2f9-dbc5d399bda5"
      },
      "execution_count": null,
      "outputs": [
        {
          "output_type": "stream",
          "name": "stdout",
          "text": [
            "[2, 4, 6, 8, 10]\n"
          ]
        }
      ]
    },
    {
      "cell_type": "code",
      "source": [
        "a2=np.array([1,2,3,4,5,6,7,8,9,10])\n",
        "#program to find even numbers\n",
        "arr2=np.array([i for i in a1 if i % 2 == 0])\n",
        "print(arr2)\n"
      ],
      "metadata": {
        "colab": {
          "base_uri": "https://localhost:8080/"
        },
        "id": "BzqOB8gEkLOD",
        "outputId": "b6ea6226-52b0-484d-8a22-6fefa689db57"
      },
      "execution_count": null,
      "outputs": [
        {
          "output_type": "stream",
          "name": "stdout",
          "text": [
            "[ 2  4  6  8 10]\n"
          ]
        }
      ]
    },
    {
      "cell_type": "code",
      "source": [],
      "metadata": {
        "id": "SbSeNRLPk1S4"
      },
      "execution_count": null,
      "outputs": []
    },
    {
      "cell_type": "markdown",
      "source": [
        "#insertion\n",
        "append: end of the array\n",
        "\n",
        "* insert: at desired index\n",
        "*  append: at end index\n",
        "\n",
        "#append\n",
        "\n"
      ],
      "metadata": {
        "id": "YTNLiShBk_NC"
      }
    },
    {
      "cell_type": "code",
      "source": [
        "a3=np.array([1,2,3,4])\n",
        "print(a3)"
      ],
      "metadata": {
        "colab": {
          "base_uri": "https://localhost:8080/"
        },
        "id": "ftGqRzUslA-v",
        "outputId": "54db3df1-fcd0-471e-a2b6-75742e8719b6"
      },
      "execution_count": null,
      "outputs": [
        {
          "output_type": "stream",
          "name": "stdout",
          "text": [
            "[1 2 3 4]\n"
          ]
        }
      ]
    },
    {
      "cell_type": "code",
      "source": [
        "a3=np.array([1,2,3,4])\n",
        "a3=np.append(a3,5)\n",
        "print(a3)"
      ],
      "metadata": {
        "colab": {
          "base_uri": "https://localhost:8080/"
        },
        "id": "ZVdHIL49lJGV",
        "outputId": "10ce5698-4a52-4942-d268-1e8b8d7e5124"
      },
      "execution_count": null,
      "outputs": [
        {
          "output_type": "stream",
          "name": "stdout",
          "text": [
            "[1 2 3 4 5]\n"
          ]
        }
      ]
    },
    {
      "cell_type": "code",
      "source": [
        "a4=np.array([1,2,3,4])\n",
        "a4=np.append(a4,[5,6,7,8,9,10])\n",
        "print(a4)"
      ],
      "metadata": {
        "colab": {
          "base_uri": "https://localhost:8080/"
        },
        "id": "5Zf0pTLxl4Of",
        "outputId": "f99eb09d-c281-4ab5-9e89-94d5d313d6f2"
      },
      "execution_count": null,
      "outputs": [
        {
          "output_type": "stream",
          "name": "stdout",
          "text": [
            "[ 1  2  3  4  5  6  7  8  9 10]\n"
          ]
        }
      ]
    },
    {
      "cell_type": "code",
      "source": [
        "a5=np.array([1,2,3,4])\n",
        "a6=np.array([5,6,7,8,9,10])\n",
        "a5=np.append(a5,a6)\n",
        "print(a5)"
      ],
      "metadata": {
        "colab": {
          "base_uri": "https://localhost:8080/"
        },
        "id": "asRQr2xDmuzb",
        "outputId": "c83b47bb-203e-4008-ff81-49b5418cc576"
      },
      "execution_count": null,
      "outputs": [
        {
          "output_type": "stream",
          "name": "stdout",
          "text": [
            "[ 1  2  3  4  5  6  7  8  9 10]\n"
          ]
        }
      ]
    },
    {
      "cell_type": "markdown",
      "source": [
        "#insert\n",
        "#np.insert(arr,index,value)"
      ],
      "metadata": {
        "id": "WQU_Q8KboGE3"
      }
    },
    {
      "cell_type": "code",
      "source": [
        "a7=np.array([1,2,3,5,6,7,8,9,10])\n",
        "a7=np.insert(a7,3,4)\n",
        "print(a7)"
      ],
      "metadata": {
        "colab": {
          "base_uri": "https://localhost:8080/"
        },
        "id": "PzJ0f3yCnuWw",
        "outputId": "d77344d2-034a-4d8f-aa7e-32e6e11dc699"
      },
      "execution_count": 2,
      "outputs": [
        {
          "output_type": "stream",
          "name": "stdout",
          "text": [
            "[ 1  2  3  4  5  6  7  8  9 10]\n"
          ]
        }
      ]
    },
    {
      "cell_type": "code",
      "source": [
        "b=np.array(['a','b','c','d'])\n",
        "b=np.insert(b,-1,'e')\n",
        "print(b)"
      ],
      "metadata": {
        "colab": {
          "base_uri": "https://localhost:8080/"
        },
        "id": "OKSYdlfTohtZ",
        "outputId": "5cd6aac1-5535-429d-da66-4e1dcffd5d8f"
      },
      "execution_count": 3,
      "outputs": [
        {
          "output_type": "stream",
          "name": "stdout",
          "text": [
            "['a' 'b' 'c' 'e' 'd']\n"
          ]
        }
      ]
    },
    {
      "cell_type": "code",
      "source": [
        "print(a7)"
      ],
      "metadata": {
        "colab": {
          "base_uri": "https://localhost:8080/"
        },
        "id": "1GAoA0eTpcxj",
        "outputId": "10ed5f80-6acb-456b-9bdb-21a8b03abbdc"
      },
      "execution_count": 4,
      "outputs": [
        {
          "output_type": "stream",
          "name": "stdout",
          "text": [
            "[ 1  2  3  4  5  6  7  8  9 10]\n"
          ]
        }
      ]
    },
    {
      "cell_type": "code",
      "source": [
        "a7[0]=0 # replace the values\n",
        "print(a7)"
      ],
      "metadata": {
        "colab": {
          "base_uri": "https://localhost:8080/"
        },
        "id": "MZOnBxJFq2-5",
        "outputId": "ba8da599-5e8b-4faf-c895-08791b81e6e0"
      },
      "execution_count": 5,
      "outputs": [
        {
          "output_type": "stream",
          "name": "stdout",
          "text": [
            "[ 0  2  3  4  5  6  7  8  9 10]\n"
          ]
        }
      ]
    },
    {
      "cell_type": "code",
      "source": [
        "print(a7)"
      ],
      "metadata": {
        "colab": {
          "base_uri": "https://localhost:8080/"
        },
        "id": "QMvACotl4gJX",
        "outputId": "388a07f3-31c9-4b7d-bf6d-4dfd4e56e163"
      },
      "execution_count": 6,
      "outputs": [
        {
          "output_type": "stream",
          "name": "stdout",
          "text": [
            "[ 0  2  3  4  5  6  7  8  9 10]\n"
          ]
        }
      ]
    },
    {
      "cell_type": "markdown",
      "source": [
        "#replace"
      ],
      "metadata": {
        "id": "VKL8XNtd40D7"
      }
    },
    {
      "cell_type": "code",
      "source": [
        "a7[0]=1 # add at perticular index\n",
        "print(a7)"
      ],
      "metadata": {
        "colab": {
          "base_uri": "https://localhost:8080/"
        },
        "id": "OIzTdIex4mnI",
        "outputId": "09a0755a-e1e8-4d76-fdd0-5344f3fc2c4f"
      },
      "execution_count": 8,
      "outputs": [
        {
          "output_type": "stream",
          "name": "stdout",
          "text": [
            "[ 1  2  3  4  5  6  7  8  9 10]\n"
          ]
        }
      ]
    },
    {
      "cell_type": "markdown",
      "source": [],
      "metadata": {
        "id": "yP99LYaD4f2n"
      }
    },
    {
      "cell_type": "markdown",
      "source": [
        "#sorting\n",
        "#arange in incrsing or decreasing order"
      ],
      "metadata": {
        "id": "n984N3ELTK_j"
      }
    },
    {
      "cell_type": "code",
      "source": [],
      "metadata": {
        "id": "APyF0wkf4Mct"
      },
      "execution_count": null,
      "outputs": []
    },
    {
      "cell_type": "code",
      "source": [
        "b=np.array([5,1,2,3,9,6,4,8,7])\n",
        "b=np.sort(b)\n",
        "print(b)"
      ],
      "metadata": {
        "colab": {
          "base_uri": "https://localhost:8080/"
        },
        "id": "WCW-PPcQq_Aq",
        "outputId": "440b3636-14ed-4cd7-a3e9-b879bf26922b"
      },
      "execution_count": null,
      "outputs": [
        {
          "output_type": "stream",
          "name": "stdout",
          "text": [
            "[1 2 3 4 5 6 7 8 9]\n"
          ]
        }
      ]
    },
    {
      "cell_type": "code",
      "source": [
        "b"
      ],
      "metadata": {
        "colab": {
          "base_uri": "https://localhost:8080/"
        },
        "id": "GUe7lrlITgfc",
        "outputId": "8ee94f19-05b2-4904-8215-52419d6c75ba"
      },
      "execution_count": null,
      "outputs": [
        {
          "output_type": "execute_result",
          "data": {
            "text/plain": [
              "array([1, 2, 3, 4, 5, 6, 7, 8, 9])"
            ]
          },
          "metadata": {},
          "execution_count": 9
        }
      ]
    },
    {
      "cell_type": "code",
      "source": [
        "b_r=np.sort(b)[::-1]\n",
        "print(b_r)"
      ],
      "metadata": {
        "colab": {
          "base_uri": "https://localhost:8080/"
        },
        "id": "qca4rgdQT7KR",
        "outputId": "0bedc424-2859-47a0-958e-0a45e54ca894"
      },
      "execution_count": null,
      "outputs": [
        {
          "output_type": "stream",
          "name": "stdout",
          "text": [
            "[9 8 7 6 5 4 3 2 1]\n"
          ]
        }
      ]
    },
    {
      "cell_type": "markdown",
      "source": [
        "#Deletion\n"
      ],
      "metadata": {
        "id": "rmABJeFnUxq4"
      }
    },
    {
      "cell_type": "code",
      "source": [
        "print(b)"
      ],
      "metadata": {
        "colab": {
          "base_uri": "https://localhost:8080/"
        },
        "id": "9nhT7varUPTc",
        "outputId": "48b3843a-32ce-45e3-f7ab-0a4d2056968a"
      },
      "execution_count": 9,
      "outputs": [
        {
          "output_type": "stream",
          "name": "stdout",
          "text": [
            "['a' 'b' 'c' 'e' 'd']\n"
          ]
        }
      ]
    },
    {
      "cell_type": "code",
      "source": [
        "b=np.delete(b,0)\n",
        "print(b)"
      ],
      "metadata": {
        "colab": {
          "base_uri": "https://localhost:8080/"
        },
        "id": "CGBMvXpoVRzD",
        "outputId": "5f8bef69-52ab-4863-ad13-07696cff5d32"
      },
      "execution_count": 10,
      "outputs": [
        {
          "output_type": "stream",
          "name": "stdout",
          "text": [
            "['b' 'c' 'e' 'd']\n"
          ]
        }
      ]
    },
    {
      "cell_type": "code",
      "source": [
        "b=np.insert(b,0,1)\n",
        "print(b)"
      ],
      "metadata": {
        "colab": {
          "base_uri": "https://localhost:8080/"
        },
        "id": "K7QpNc3nVxPY",
        "outputId": "8d7d39e4-5bef-4258-d126-fe2a1433872a"
      },
      "execution_count": 11,
      "outputs": [
        {
          "output_type": "stream",
          "name": "stdout",
          "text": [
            "['1' 'b' 'c' 'e' 'd']\n"
          ]
        }
      ]
    },
    {
      "cell_type": "code",
      "source": [
        "b=np.delete(b,[0,1])\n",
        "print(b)"
      ],
      "metadata": {
        "colab": {
          "base_uri": "https://localhost:8080/"
        },
        "collapsed": true,
        "id": "J7gsCIr1V-hk",
        "outputId": "a28ab565-253c-4801-e656-6c02d1e12968"
      },
      "execution_count": 12,
      "outputs": [
        {
          "output_type": "stream",
          "name": "stdout",
          "text": [
            "['c' 'e' 'd']\n"
          ]
        }
      ]
    },
    {
      "cell_type": "code",
      "source": [
        "b=np.insert(b,[0,1],['a','b'])\n",
        "b=np.sort(b)\n",
        "print(b)"
      ],
      "metadata": {
        "id": "0giAcLj_WRKS",
        "colab": {
          "base_uri": "https://localhost:8080/"
        },
        "outputId": "56733de9-589a-45d2-b027-09646ad71858"
      },
      "execution_count": 14,
      "outputs": [
        {
          "output_type": "stream",
          "name": "stdout",
          "text": [
            "['a' 'b' 'c' 'd' 'e']\n"
          ]
        }
      ]
    },
    {
      "cell_type": "code",
      "source": [
        "b=np.delete(b,[0,-1])\n",
        "print(b)"
      ],
      "metadata": {
        "colab": {
          "base_uri": "https://localhost:8080/"
        },
        "id": "TzeVNgrH5mQh",
        "outputId": "2b2ce227-8c9b-4f24-ee0f-467aba3f5b88"
      },
      "execution_count": 20,
      "outputs": [
        {
          "output_type": "stream",
          "name": "stdout",
          "text": [
            "['a' 'b' 'c' 'd' 'e']\n"
          ]
        }
      ]
    },
    {
      "cell_type": "code",
      "source": [
        "b=np.insert(b,[0,-1],['a','e'])\n",
        "print(b)"
      ],
      "metadata": {
        "colab": {
          "base_uri": "https://localhost:8080/"
        },
        "id": "YIlFktN75zoq",
        "outputId": "90bfed3a-4c2f-41f3-c92e-3f2a4a5a6e01"
      },
      "execution_count": 21,
      "outputs": [
        {
          "output_type": "stream",
          "name": "stdout",
          "text": [
            "['a' 'a' 'b' 'c' 'd' 'e' 'e']\n"
          ]
        }
      ]
    },
    {
      "cell_type": "code",
      "source": [
        "b=np.delete(b,[0,-1])\n",
        "print(b)"
      ],
      "metadata": {
        "colab": {
          "base_uri": "https://localhost:8080/"
        },
        "id": "K-KE1HTG5vt2",
        "outputId": "b800d2df-5c7c-4c47-c6da-f2ad856faca5"
      },
      "execution_count": 22,
      "outputs": [
        {
          "output_type": "stream",
          "name": "stdout",
          "text": [
            "['a' 'b' 'c' 'd' 'e']\n"
          ]
        }
      ]
    },
    {
      "cell_type": "code",
      "source": [
        "mask=b != 'e'\n",
        "b_mask=b[mask]\n",
        "print(b_mask)\n",
        "\n"
      ],
      "metadata": {
        "colab": {
          "base_uri": "https://localhost:8080/"
        },
        "id": "AmniJ5Nm6SR_",
        "outputId": "5018c585-52e5-410a-b875-da05f95ac0ae"
      },
      "execution_count": 29,
      "outputs": [
        {
          "output_type": "stream",
          "name": "stdout",
          "text": [
            "['a' 'b' 'c' 'd']\n"
          ]
        }
      ]
    },
    {
      "cell_type": "markdown",
      "source": [
        "#searching\n",
        "#using membership operator\n",
        "#in or not in"
      ],
      "metadata": {
        "id": "EInCRBrS7mNa"
      }
    },
    {
      "cell_type": "code",
      "source": [
        "print(b)"
      ],
      "metadata": {
        "colab": {
          "base_uri": "https://localhost:8080/"
        },
        "id": "koErS1cn6ZOh",
        "outputId": "aacd7084-2bab-4e7c-f2a2-9f74804ecb47"
      },
      "execution_count": 30,
      "outputs": [
        {
          "output_type": "stream",
          "name": "stdout",
          "text": [
            "['a' 'b' 'c' 'd' 'e']\n"
          ]
        }
      ]
    },
    {
      "cell_type": "code",
      "source": [
        "'a'in b"
      ],
      "metadata": {
        "colab": {
          "base_uri": "https://localhost:8080/"
        },
        "id": "hXU9bIZP7r1r",
        "outputId": "20b134e6-9b67-4c81-bc9c-d289b509a5e6"
      },
      "execution_count": 31,
      "outputs": [
        {
          "output_type": "execute_result",
          "data": {
            "text/plain": [
              "True"
            ]
          },
          "metadata": {},
          "execution_count": 31
        }
      ]
    },
    {
      "cell_type": "code",
      "source": [
        "b=np.array(['a','b','c','d','e','f','a'])\n",
        "if 'a' in b:\n",
        "  print('yes','at index',(np.where(b=='a')[0]))\n",
        "else:\n",
        "  print('no')"
      ],
      "metadata": {
        "colab": {
          "base_uri": "https://localhost:8080/"
        },
        "id": "wK0CbZ3Y789p",
        "outputId": "b9cee947-e968-4c20-82cf-960595e66256"
      },
      "execution_count": 46,
      "outputs": [
        {
          "output_type": "stream",
          "name": "stdout",
          "text": [
            "yes at index [0 6]\n"
          ]
        }
      ]
    }
  ]
}