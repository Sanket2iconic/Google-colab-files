{
  "nbformat": 4,
  "nbformat_minor": 0,
  "metadata": {
    "colab": {
      "provenance": [],
      "authorship_tag": "ABX9TyNShQj3rC0yrP34uKry0yAI",
      "include_colab_link": true
    },
    "kernelspec": {
      "name": "python3",
      "display_name": "Python 3"
    },
    "language_info": {
      "name": "python"
    }
  },
  "cells": [
    {
      "cell_type": "markdown",
      "metadata": {
        "id": "view-in-github",
        "colab_type": "text"
      },
      "source": [
        "<a href=\"https://colab.research.google.com/github/Sanket2iconic/Google-colab-files/blob/main/Effecient_string_operation.ipynb\" target=\"_parent\"><img src=\"https://colab.research.google.com/assets/colab-badge.svg\" alt=\"Open In Colab\"/></a>"
      ]
    },
    {
      "cell_type": "markdown",
      "source": [
        "#Types\n",
        "* single line ('')\n",
        "*multiline strings(\"\")(''' '''')"
      ],
      "metadata": {
        "id": "KVVwl5mjVpFH"
      }
    },
    {
      "cell_type": "code",
      "execution_count": 3,
      "metadata": {
        "colab": {
          "base_uri": "https://localhost:8080/",
          "height": 35
        },
        "id": "xfeJA0AWVXEa",
        "outputId": "70f73199-a07f-46e2-8d26-f2c47b6f4e03"
      },
      "outputs": [
        {
          "output_type": "execute_result",
          "data": {
            "text/plain": [
              "'datascience'"
            ],
            "application/vnd.google.colaboratory.intrinsic+json": {
              "type": "string"
            }
          },
          "metadata": {},
          "execution_count": 3
        }
      ],
      "source": [
        "course=\"datascience\"\n",
        "course"
      ]
    },
    {
      "cell_type": "markdown",
      "source": [
        "#concatenate"
      ],
      "metadata": {
        "id": "F4EmDkIpWC-R"
      }
    },
    {
      "cell_type": "code",
      "source": [
        "a=\"data\"\n",
        "b=\"science\"\n",
        "ab=a+b\n",
        "ba=a+\" \"+b\n",
        "print(ab)\n",
        "print(ba)"
      ],
      "metadata": {
        "colab": {
          "base_uri": "https://localhost:8080/"
        },
        "id": "UumIZs-QWHlZ",
        "outputId": "358a8fdd-a0b3-44e2-fba4-04a03e44f518"
      },
      "execution_count": 6,
      "outputs": [
        {
          "output_type": "stream",
          "name": "stdout",
          "text": [
            "datascience\n",
            "data science\n"
          ]
        }
      ]
    },
    {
      "cell_type": "markdown",
      "source": [
        "#join"
      ],
      "metadata": {
        "id": "t38w0-YlWzHH"
      }
    },
    {
      "cell_type": "code",
      "source": [
        "a=['sanket','is','a','good','boy']\n",
        "aa=\" \".join(a)\n",
        "print(aa)\n"
      ],
      "metadata": {
        "colab": {
          "base_uri": "https://localhost:8080/"
        },
        "id": "314Y0RY7WuQT",
        "outputId": "267b2777-416b-4298-d0e4-875b5187393d"
      },
      "execution_count": 8,
      "outputs": [
        {
          "output_type": "stream",
          "name": "stdout",
          "text": [
            "sanket is a good boy\n"
          ]
        }
      ]
    },
    {
      "cell_type": "code",
      "source": [
        "a=['sanket','is','a','good','boy']\n",
        "aa=\"+\".join(a)\n",
        "print(aa)"
      ],
      "metadata": {
        "colab": {
          "base_uri": "https://localhost:8080/"
        },
        "id": "0SAoJFzEYUYe",
        "outputId": "c8b69339-a2cb-4930-df05-43ea54cdfe85"
      },
      "execution_count": 12,
      "outputs": [
        {
          "output_type": "stream",
          "name": "stdout",
          "text": [
            "sanket+is+a+good+boy\n"
          ]
        }
      ]
    },
    {
      "cell_type": "code",
      "source": [
        "b=['d',5,'s']\n",
        "bb=\" \".join(map(str,b))\n",
        "print(bb)\n",
        "print(type(bb))"
      ],
      "metadata": {
        "colab": {
          "base_uri": "https://localhost:8080/"
        },
        "id": "gwdTxT74XD-s",
        "outputId": "213521a7-c71f-44ba-8948-be21fe33ee3c"
      },
      "execution_count": 11,
      "outputs": [
        {
          "output_type": "stream",
          "name": "stdout",
          "text": [
            "d 5 s\n",
            "<class 'str'>\n"
          ]
        }
      ]
    },
    {
      "cell_type": "markdown",
      "source": [
        "#substring extraction"
      ],
      "metadata": {
        "id": "DSrASodCYIJ8"
      }
    },
    {
      "cell_type": "code",
      "source": [
        "text=\"my name is sanket\"\n",
        "# extract sanket\n",
        "text[-6:]\n"
      ],
      "metadata": {
        "colab": {
          "base_uri": "https://localhost:8080/",
          "height": 35
        },
        "id": "egli1rB9YE0F",
        "outputId": "4e5284de-5c23-4874-e129-45f8bad989ce"
      },
      "execution_count": 70,
      "outputs": [
        {
          "output_type": "execute_result",
          "data": {
            "text/plain": [
              "'sanket'"
            ],
            "application/vnd.google.colaboratory.intrinsic+json": {
              "type": "string"
            }
          },
          "metadata": {},
          "execution_count": 70
        }
      ]
    },
    {
      "cell_type": "markdown",
      "source": [
        "#split"
      ],
      "metadata": {
        "id": "zduDoOJnrRyR"
      }
    },
    {
      "cell_type": "code",
      "source": [
        "print(text)\n",
        "text_list=list(text.split())\n",
        "print(text_list)\n",
        "a=list(enumerate(text_list))\n",
        "print(a)\n",
        "for i,j in a:\n",
        "  if j==\"sanket\":\n",
        "    print(j,'is at index',i)\n",
        "    break\n",
        "output=[]\n",
        "for i,j in a:\n",
        "  if j=='name'or j=='is'or j=='sanket':\n",
        "    output.append(j)\n",
        "print(\" \".join(output))\n"
      ],
      "metadata": {
        "colab": {
          "base_uri": "https://localhost:8080/"
        },
        "id": "29RTTULQY0tG",
        "outputId": "cbb19f1e-3c52-41f2-e5fa-bc96cd4da9ee"
      },
      "execution_count": 72,
      "outputs": [
        {
          "output_type": "stream",
          "name": "stdout",
          "text": [
            "my name is sanket\n",
            "['my', 'name', 'is', 'sanket']\n",
            "[(0, 'my'), (1, 'name'), (2, 'is'), (3, 'sanket')]\n",
            "sanket is at index 3\n",
            "name is sanket\n"
          ]
        }
      ]
    },
    {
      "cell_type": "code",
      "source": [
        "text_list"
      ],
      "metadata": {
        "colab": {
          "base_uri": "https://localhost:8080/"
        },
        "id": "fTN1NBsUZO8U",
        "outputId": "630e4a61-38b0-4644-9187-0f1aeb6c410e"
      },
      "execution_count": 29,
      "outputs": [
        {
          "output_type": "execute_result",
          "data": {
            "text/plain": [
              "['my', 'name', 'is', 'sanket']"
            ]
          },
          "metadata": {},
          "execution_count": 29
        }
      ]
    },
    {
      "cell_type": "code",
      "source": [
        "o1=text_list[1:]\n",
        "print(o1)"
      ],
      "metadata": {
        "colab": {
          "base_uri": "https://localhost:8080/"
        },
        "id": "OomqMFnlbkA6",
        "outputId": "d358b4d1-a29b-4e1d-cb15-bb8525ed3ce3"
      },
      "execution_count": 31,
      "outputs": [
        {
          "output_type": "stream",
          "name": "stdout",
          "text": [
            "['name', 'is', 'sanket']\n"
          ]
        }
      ]
    },
    {
      "cell_type": "code",
      "source": [
        "print(\" \".join(o1))"
      ],
      "metadata": {
        "colab": {
          "base_uri": "https://localhost:8080/"
        },
        "id": "j2xLfJ7WbvgZ",
        "outputId": "63e7490e-e990-4511-d1fd-d4cf7ed2e2cf"
      },
      "execution_count": 32,
      "outputs": [
        {
          "output_type": "stream",
          "name": "stdout",
          "text": [
            "name is sanket\n"
          ]
        }
      ]
    },
    {
      "cell_type": "markdown",
      "source": [
        "#index and find"
      ],
      "metadata": {
        "id": "IYl0ioNacZl6"
      }
    },
    {
      "cell_type": "markdown",
      "source": [
        "Index"
      ],
      "metadata": {
        "id": "3N2WrwcHcbu0"
      }
    },
    {
      "cell_type": "code",
      "source": [
        "a=['sanket','is','a','good','boy']\n",
        "aa=\" \".join(a)\n",
        "print(aa)"
      ],
      "metadata": {
        "colab": {
          "base_uri": "https://localhost:8080/"
        },
        "id": "Yo_001WNcbAF",
        "outputId": "ce423e19-3a12-4499-dd54-edeb15d0cb60"
      },
      "execution_count": 34,
      "outputs": [
        {
          "output_type": "stream",
          "name": "stdout",
          "text": [
            "sanket is a good boy\n"
          ]
        }
      ]
    },
    {
      "cell_type": "code",
      "source": [
        "b=\"datascience\"\n",
        "b.index('a') # gives only index at first interval"
      ],
      "metadata": {
        "colab": {
          "base_uri": "https://localhost:8080/"
        },
        "id": "m3kjs0qbcnnS",
        "outputId": "e989baf7-df2a-4fe8-a237-f7f6c614cd16"
      },
      "execution_count": 35,
      "outputs": [
        {
          "output_type": "execute_result",
          "data": {
            "text/plain": [
              "1"
            ]
          },
          "metadata": {},
          "execution_count": 35
        }
      ]
    },
    {
      "cell_type": "code",
      "source": [
        "a.index('is')"
      ],
      "metadata": {
        "colab": {
          "base_uri": "https://localhost:8080/"
        },
        "id": "JNLPKEYFc3Gd",
        "outputId": "61e17eb8-8f1b-4d75-e4b1-846aa6fcb825"
      },
      "execution_count": 36,
      "outputs": [
        {
          "output_type": "execute_result",
          "data": {
            "text/plain": [
              "1"
            ]
          },
          "metadata": {},
          "execution_count": 36
        }
      ]
    },
    {
      "cell_type": "code",
      "source": [
        "a.index('a')"
      ],
      "metadata": {
        "colab": {
          "base_uri": "https://localhost:8080/"
        },
        "id": "Nogz3vw5dDPb",
        "outputId": "63b8a10f-249a-4da1-c378-a99f8a1528b7"
      },
      "execution_count": 37,
      "outputs": [
        {
          "output_type": "execute_result",
          "data": {
            "text/plain": [
              "2"
            ]
          },
          "metadata": {},
          "execution_count": 37
        }
      ]
    },
    {
      "cell_type": "markdown",
      "source": [
        "find"
      ],
      "metadata": {
        "id": "iKM_yMSgl136"
      }
    },
    {
      "cell_type": "code",
      "source": [
        "b"
      ],
      "metadata": {
        "colab": {
          "base_uri": "https://localhost:8080/",
          "height": 35
        },
        "id": "pnK_VqCQdGQw",
        "outputId": "0ea69760-84fe-4b74-ffe1-49586f4b9621"
      },
      "execution_count": 38,
      "outputs": [
        {
          "output_type": "execute_result",
          "data": {
            "text/plain": [
              "'datascience'"
            ],
            "application/vnd.google.colaboratory.intrinsic+json": {
              "type": "string"
            }
          },
          "metadata": {},
          "execution_count": 38
        }
      ]
    },
    {
      "cell_type": "code",
      "source": [
        "print(b.find('a'))\n",
        "print(b.find('x'))\n",
        "print(b.index('a'))\n",
        "print(b.find('a',2))\n"
      ],
      "metadata": {
        "colab": {
          "base_uri": "https://localhost:8080/"
        },
        "id": "p-Q71vprl56j",
        "outputId": "53305aa3-57ba-41e5-d22a-618f9e578732"
      },
      "execution_count": 47,
      "outputs": [
        {
          "output_type": "stream",
          "name": "stdout",
          "text": [
            "1\n",
            "-1\n",
            "1\n",
            "3\n"
          ]
        }
      ]
    },
    {
      "cell_type": "markdown",
      "source": [
        "#string manupulation"
      ],
      "metadata": {
        "id": "ItIgkpWjnl0w"
      }
    },
    {
      "cell_type": "markdown",
      "source": [
        "replace\n",
        "---\n",
        "a.replace(old_name,new_name)\n",
        "\n"
      ],
      "metadata": {
        "id": "kY-SeKh1nr_A"
      }
    },
    {
      "cell_type": "code",
      "source": [
        "b"
      ],
      "metadata": {
        "colab": {
          "base_uri": "https://localhost:8080/",
          "height": 35
        },
        "id": "zQ_GyxZ_mBV_",
        "outputId": "50b42f6f-43b6-4604-8d21-8da70b08974e"
      },
      "execution_count": 48,
      "outputs": [
        {
          "output_type": "execute_result",
          "data": {
            "text/plain": [
              "'datascience'"
            ],
            "application/vnd.google.colaboratory.intrinsic+json": {
              "type": "string"
            }
          },
          "metadata": {},
          "execution_count": 48
        }
      ]
    },
    {
      "cell_type": "code",
      "source": [
        "aa"
      ],
      "metadata": {
        "colab": {
          "base_uri": "https://localhost:8080/",
          "height": 35
        },
        "id": "SV003k3VoMqy",
        "outputId": "22a316d5-a05c-4bce-bf8b-c74984c5420d"
      },
      "execution_count": 49,
      "outputs": [
        {
          "output_type": "execute_result",
          "data": {
            "text/plain": [
              "'sanket is a good boy'"
            ],
            "application/vnd.google.colaboratory.intrinsic+json": {
              "type": "string"
            }
          },
          "metadata": {},
          "execution_count": 49
        }
      ]
    },
    {
      "cell_type": "code",
      "source": [
        "print(aa.replace('sanket','krishna'))\n",
        "aa.index('sanket')"
      ],
      "metadata": {
        "colab": {
          "base_uri": "https://localhost:8080/"
        },
        "id": "W2frateSoQnz",
        "outputId": "d18d9fc5-ad0f-4619-bf1b-70588e41b9c4"
      },
      "execution_count": 52,
      "outputs": [
        {
          "output_type": "stream",
          "name": "stdout",
          "text": [
            "krishna is a good boy\n"
          ]
        },
        {
          "output_type": "execute_result",
          "data": {
            "text/plain": [
              "0"
            ]
          },
          "metadata": {},
          "execution_count": 52
        }
      ]
    },
    {
      "cell_type": "code",
      "source": [
        "print(aa.replace('a','1'))\n",
        "aa.index('a')\n",
        "aa"
      ],
      "metadata": {
        "colab": {
          "base_uri": "https://localhost:8080/",
          "height": 53
        },
        "id": "xpyUadNXoZ1T",
        "outputId": "b456c5a3-af46-4ae7-b374-42888cc47027"
      },
      "execution_count": 56,
      "outputs": [
        {
          "output_type": "stream",
          "name": "stdout",
          "text": [
            "s1nket is 1 good boy\n"
          ]
        },
        {
          "output_type": "execute_result",
          "data": {
            "text/plain": [
              "'sanket is a good boy'"
            ],
            "application/vnd.google.colaboratory.intrinsic+json": {
              "type": "string"
            }
          },
          "metadata": {},
          "execution_count": 56
        }
      ]
    },
    {
      "cell_type": "markdown",
      "source": [
        "#strip\n",
        "remove white space and charecters before and after string\n",
        "---\n",
        "a.strip()\n"
      ],
      "metadata": {
        "id": "bJxsFmYipFQ9"
      }
    },
    {
      "cell_type": "code",
      "source": [
        "c=\"   sanket   \"\n",
        "print(c)\n",
        "print(c.strip())"
      ],
      "metadata": {
        "colab": {
          "base_uri": "https://localhost:8080/"
        },
        "id": "LW7mR7hOo2Zz",
        "outputId": "b782c701-1fe8-410d-c91c-d5a2a8c18836"
      },
      "execution_count": 57,
      "outputs": [
        {
          "output_type": "stream",
          "name": "stdout",
          "text": [
            "   sanket   \n",
            "sanket\n"
          ]
        }
      ]
    },
    {
      "cell_type": "code",
      "source": [
        "d='***sanket***'\n",
        "print(d)\n",
        "print(d.strip('*'))"
      ],
      "metadata": {
        "colab": {
          "base_uri": "https://localhost:8080/"
        },
        "id": "hdkum459psCW",
        "outputId": "e6cac0ea-f180-409c-c58b-fbe793fad9a6"
      },
      "execution_count": 58,
      "outputs": [
        {
          "output_type": "stream",
          "name": "stdout",
          "text": [
            "***sanket***\n",
            "sanket\n"
          ]
        }
      ]
    },
    {
      "cell_type": "code",
      "source": [
        "d='***sanket////'\n",
        "print(d)\n",
        "print(d.strip('*'))"
      ],
      "metadata": {
        "colab": {
          "base_uri": "https://localhost:8080/"
        },
        "id": "7gEuTTezpxat",
        "outputId": "9fec52c8-f6dd-4aac-e724-061dfd7aff92"
      },
      "execution_count": 60,
      "outputs": [
        {
          "output_type": "stream",
          "name": "stdout",
          "text": [
            "***sanket////\n",
            "sanket////\n"
          ]
        }
      ]
    },
    {
      "cell_type": "code",
      "source": [
        "d='***sanket////'\n",
        "print(d)\n",
        "print(d.rstrip('/'))"
      ],
      "metadata": {
        "colab": {
          "base_uri": "https://localhost:8080/"
        },
        "id": "lJ6iqPkCp_of",
        "outputId": "b895efa5-1fcd-4507-8714-950fd69eb8ad"
      },
      "execution_count": 63,
      "outputs": [
        {
          "output_type": "stream",
          "name": "stdout",
          "text": [
            "***sanket////\n",
            "***sanket\n"
          ]
        }
      ]
    },
    {
      "cell_type": "code",
      "source": [
        "d='***sanket////'\n",
        "print(d)\n",
        "print(d.lstrip('*'))"
      ],
      "metadata": {
        "colab": {
          "base_uri": "https://localhost:8080/"
        },
        "id": "jRkKOhIvqJrN",
        "outputId": "788cb18d-4040-41db-e68a-412dbeacf230"
      },
      "execution_count": 66,
      "outputs": [
        {
          "output_type": "stream",
          "name": "stdout",
          "text": [
            "***sanket////\n",
            "sanket////\n"
          ]
        }
      ]
    },
    {
      "cell_type": "code",
      "source": [
        "d='***sanket////'\n",
        "print(d)\n",
        "print(d.strip('/*'))"
      ],
      "metadata": {
        "colab": {
          "base_uri": "https://localhost:8080/"
        },
        "id": "J2CX6Gk-qX35",
        "outputId": "cbd04c28-cabc-43e2-b3bd-2ddbf70edda6"
      },
      "execution_count": 67,
      "outputs": [
        {
          "output_type": "stream",
          "name": "stdout",
          "text": [
            "***sanket////\n",
            "sanket\n"
          ]
        }
      ]
    },
    {
      "cell_type": "code",
      "source": [
        "a=100\n",
        "b=200\n",
        "c=a+b\n",
        "print('sum of',a,'and',b,'is',c)\n",
        "print('sum of {} and {} is {}'.format(a,b,c))\n",
        "print(f'sum of {a} and {b} is {c}')\n",
        "print('sum of %d and %d is %d'%(a,b,c))"
      ],
      "metadata": {
        "colab": {
          "base_uri": "https://localhost:8080/"
        },
        "id": "TT3MOlcwt8DD",
        "outputId": "aadfd800-6279-4af0-e02c-f43c9c0b8e0f"
      },
      "execution_count": 75,
      "outputs": [
        {
          "output_type": "stream",
          "name": "stdout",
          "text": [
            "sum of 100 and 200 is 300\n",
            "sum of 100 and 200 is 300\n",
            "sum of 100 and 200 is 300\n",
            "sum of 100 and 200 is 300\n"
          ]
        }
      ]
    },
    {
      "cell_type": "code",
      "source": [
        "pie=3.145464657\n",
        "print('value of pie is %.2f'%pie)"
      ],
      "metadata": {
        "colab": {
          "base_uri": "https://localhost:8080/"
        },
        "id": "Vl9JNi71vhmi",
        "outputId": "bfe6192e-127e-4278-a60c-4b9f062bb61e"
      },
      "execution_count": 77,
      "outputs": [
        {
          "output_type": "stream",
          "name": "stdout",
          "text": [
            "value of pie is 3.15\n"
          ]
        }
      ]
    },
    {
      "cell_type": "code",
      "source": [],
      "metadata": {
        "id": "TiLV5T3IwiGe"
      },
      "execution_count": null,
      "outputs": []
    },
    {
      "cell_type": "markdown",
      "source": [
        "#Time and Space complexity"
      ],
      "metadata": {
        "id": "8pSasKczwnNJ"
      }
    },
    {
      "cell_type": "code",
      "source": [
        "l1=[]\n",
        "for i in range(0,101):\n",
        "  l1.append(i)\n",
        "print(l1)\n",
        "#for i in l1:\n",
        " # print(i)"
      ],
      "metadata": {
        "colab": {
          "base_uri": "https://localhost:8080/"
        },
        "id": "vciQQ-ZFwp4R",
        "outputId": "874e96bf-f884-46ae-afd7-99a9355ed13a"
      },
      "execution_count": 86,
      "outputs": [
        {
          "output_type": "stream",
          "name": "stdout",
          "text": [
            "[0, 1, 2, 3, 4, 5, 6, 7, 8, 9, 10, 11, 12, 13, 14, 15, 16, 17, 18, 19, 20, 21, 22, 23, 24, 25, 26, 27, 28, 29, 30, 31, 32, 33, 34, 35, 36, 37, 38, 39, 40, 41, 42, 43, 44, 45, 46, 47, 48, 49, 50, 51, 52, 53, 54, 55, 56, 57, 58, 59, 60, 61, 62, 63, 64, 65, 66, 67, 68, 69, 70, 71, 72, 73, 74, 75, 76, 77, 78, 79, 80, 81, 82, 83, 84, 85, 86, 87, 88, 89, 90, 91, 92, 93, 94, 95, 96, 97, 98, 99, 100]\n"
          ]
        }
      ]
    },
    {
      "cell_type": "code",
      "source": [
        "a=[[1,2,3],[4,5,6]]\n",
        "aa=[]\n",
        "for i in a:\n",
        "  for j in i:\n",
        "    aa.append(j)\n",
        "\n",
        "print(aa)"
      ],
      "metadata": {
        "colab": {
          "base_uri": "https://localhost:8080/"
        },
        "id": "uWw0Rh7Xy9j9",
        "outputId": "308cbf0c-3c6b-4bb2-f687-15c2b8cce66e"
      },
      "execution_count": 96,
      "outputs": [
        {
          "output_type": "stream",
          "name": "stdout",
          "text": [
            "[1, 2, 3, 4, 5, 6]\n"
          ]
        }
      ]
    },
    {
      "cell_type": "code",
      "source": [
        "bb=[]\n",
        "for i in a:\n",
        "  for j in i:\n",
        "    bb.append(j+j)\n",
        "\n",
        "print(bb)"
      ],
      "metadata": {
        "colab": {
          "base_uri": "https://localhost:8080/"
        },
        "id": "uj9et3xd0WJY",
        "outputId": "2f3ce793-f768-4434-eac0-45c3b010d512"
      },
      "execution_count": 98,
      "outputs": [
        {
          "output_type": "stream",
          "name": "stdout",
          "text": [
            "[2, 4, 6, 8, 10, 12]\n"
          ]
        }
      ]
    },
    {
      "cell_type": "code",
      "source": [
        "arr = [2, 4, 6, 8]\n",
        "for i in range(len(arr)):\n",
        "  if i == 2:\n",
        "    i= 10\n",
        "  else:\n",
        "      i= 0\n",
        "\n",
        "print(arr)"
      ],
      "metadata": {
        "colab": {
          "base_uri": "https://localhost:8080/"
        },
        "id": "Wdm_HBxG2EV8",
        "outputId": "b2f3540d-5f17-4f43-aae0-4206b539df2e"
      },
      "execution_count": 103,
      "outputs": [
        {
          "output_type": "stream",
          "name": "stdout",
          "text": [
            "[2, 4, 6, 8]\n"
          ]
        }
      ]
    }
  ]
}