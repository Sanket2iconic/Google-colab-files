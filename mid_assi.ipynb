{
  "nbformat": 4,
  "nbformat_minor": 0,
  "metadata": {
    "colab": {
      "provenance": [],
      "authorship_tag": "ABX9TyOhJMSTLKyILaUUcd1HjbK0",
      "include_colab_link": true
    },
    "kernelspec": {
      "name": "python3",
      "display_name": "Python 3"
    },
    "language_info": {
      "name": "python"
    }
  },
  "cells": [
    {
      "cell_type": "markdown",
      "metadata": {
        "id": "view-in-github",
        "colab_type": "text"
      },
      "source": [
        "<a href=\"https://colab.research.google.com/github/Sanket2iconic/Google-colab-files/blob/main/mid_assi.ipynb\" target=\"_parent\"><img src=\"https://colab.research.google.com/assets/colab-badge.svg\" alt=\"Open In Colab\"/></a>"
      ]
    },
    {
      "cell_type": "code",
      "source": [
        "value = 230\n",
        "\n",
        "if value>112:\n",
        "\n",
        "print(value)\n",
        "\n",
        "value +=1"
      ],
      "metadata": {
        "colab": {
          "base_uri": "https://localhost:8080/",
          "height": 106
        },
        "id": "BtK2VbGEcTL_",
        "outputId": "28a7a216-cf34-4bb9-f6c6-d9ce351e27a3"
      },
      "execution_count": null,
      "outputs": [
        {
          "output_type": "error",
          "ename": "IndentationError",
          "evalue": "expected an indented block after 'if' statement on line 3 (<ipython-input-2-2511a3e86890>, line 5)",
          "traceback": [
            "\u001b[0;36m  File \u001b[0;32m\"<ipython-input-2-2511a3e86890>\"\u001b[0;36m, line \u001b[0;32m5\u001b[0m\n\u001b[0;31m    print(value)\u001b[0m\n\u001b[0m    ^\u001b[0m\n\u001b[0;31mIndentationError\u001b[0m\u001b[0;31m:\u001b[0m expected an indented block after 'if' statement on line 3\n"
          ]
        }
      ]
    },
    {
      "cell_type": "code",
      "execution_count": null,
      "metadata": {
        "colab": {
          "base_uri": "https://localhost:8080/"
        },
        "id": "og3yCSL_b-y2",
        "outputId": "1871e968-d1af-435a-fa8d-984ee68f0bb8"
      },
      "outputs": [
        {
          "output_type": "execute_result",
          "data": {
            "text/plain": [
              "10"
            ]
          },
          "metadata": {},
          "execution_count": 1
        }
      ],
      "source": [
        "len(\"Almabetter\")"
      ]
    },
    {
      "cell_type": "code",
      "source": [
        "print(len(\"Pseudopodia\"))"
      ],
      "metadata": {
        "colab": {
          "base_uri": "https://localhost:8080/"
        },
        "id": "S6Q_YHdickAy",
        "outputId": "bdc607fc-6113-469a-a6a8-879aafd3ea1e"
      },
      "execution_count": null,
      "outputs": [
        {
          "output_type": "stream",
          "name": "stdout",
          "text": [
            "11\n"
          ]
        }
      ]
    },
    {
      "cell_type": "code",
      "source": [
        "my_dict = {\"a\": 1, \"b\": 2, \"c\": 3}\n",
        "print(my_dict.get(\"d\", 0))"
      ],
      "metadata": {
        "colab": {
          "base_uri": "https://localhost:8080/"
        },
        "id": "iYAmg1RIct5r",
        "outputId": "60743685-dd9d-4a1e-d42d-2047a4148db7"
      },
      "execution_count": null,
      "outputs": [
        {
          "output_type": "stream",
          "name": "stdout",
          "text": [
            "0\n"
          ]
        }
      ]
    },
    {
      "cell_type": "code",
      "source": [
        "for i in range(1, 6):\n",
        "    print(i)"
      ],
      "metadata": {
        "colab": {
          "base_uri": "https://localhost:8080/"
        },
        "id": "rBjBkpQDdLan",
        "outputId": "f0271a3b-15e6-41d7-a44c-187f5b5eb55d"
      },
      "execution_count": null,
      "outputs": [
        {
          "output_type": "stream",
          "name": "stdout",
          "text": [
            "1\n",
            "2\n",
            "3\n",
            "4\n",
            "5\n"
          ]
        }
      ]
    },
    {
      "cell_type": "code",
      "source": [
        "numbers = [1, 2, 3, 4, 5]\n",
        "for num in numbers:\n",
        "    if num == 3:\n",
        "        break\n",
        "    print(num)"
      ],
      "metadata": {
        "colab": {
          "base_uri": "https://localhost:8080/"
        },
        "id": "ZAaWQyFxdaia",
        "outputId": "8a108671-9a17-42ee-c93d-ae75572979ac"
      },
      "execution_count": null,
      "outputs": [
        {
          "output_type": "stream",
          "name": "stdout",
          "text": [
            "1\n",
            "2\n"
          ]
        }
      ]
    },
    {
      "cell_type": "code",
      "source": [
        "#What is the output of the following code?\n",
        "\n",
        "numbers = [1, 2, 3, 4, 5]\n",
        "new_numbers = []\n",
        "for num in numbers:\n",
        "    new_numbers.append(num * 2)\n",
        "print(new_numbers)"
      ],
      "metadata": {
        "colab": {
          "base_uri": "https://localhost:8080/"
        },
        "id": "Nzv8TKjNdofj",
        "outputId": "ff309dde-2561-4486-d7d6-4fa3736896e3"
      },
      "execution_count": null,
      "outputs": [
        {
          "output_type": "stream",
          "name": "stdout",
          "text": [
            "[2, 4, 6, 8, 10]\n"
          ]
        }
      ]
    },
    {
      "cell_type": "code",
      "source": [
        "for i in range(3):\n",
        "    for j in range(2):\n",
        "        print(i*j)"
      ],
      "metadata": {
        "colab": {
          "base_uri": "https://localhost:8080/"
        },
        "id": "zdxF2waseIqu",
        "outputId": "8e21e7bf-aba6-4122-bd93-c1ad94399374"
      },
      "execution_count": null,
      "outputs": [
        {
          "output_type": "stream",
          "name": "stdout",
          "text": [
            "0\n",
            "0\n",
            "0\n",
            "1\n",
            "0\n",
            "2\n"
          ]
        }
      ]
    },
    {
      "cell_type": "code",
      "source": [],
      "metadata": {
        "id": "12Gs_Ll8ekaD"
      },
      "execution_count": null,
      "outputs": []
    },
    {
      "cell_type": "code",
      "source": [
        "set1 = {1, 2, 3, 4, 5}\n",
        "print(set1[4:6])"
      ],
      "metadata": {
        "colab": {
          "base_uri": "https://localhost:8080/",
          "height": 159
        },
        "id": "1Hc0RfubeYuR",
        "outputId": "41cfe459-87cd-479f-cb9d-cb4ac1c593bf"
      },
      "execution_count": null,
      "outputs": [
        {
          "output_type": "error",
          "ename": "TypeError",
          "evalue": "'set' object is not subscriptable",
          "traceback": [
            "\u001b[0;31m---------------------------------------------------------------------------\u001b[0m",
            "\u001b[0;31mTypeError\u001b[0m                                 Traceback (most recent call last)",
            "\u001b[0;32m<ipython-input-9-d6d0b3d7526e>\u001b[0m in \u001b[0;36m<cell line: 2>\u001b[0;34m()\u001b[0m\n\u001b[1;32m      1\u001b[0m \u001b[0mset1\u001b[0m \u001b[0;34m=\u001b[0m \u001b[0;34m{\u001b[0m\u001b[0;36m1\u001b[0m\u001b[0;34m,\u001b[0m \u001b[0;36m2\u001b[0m\u001b[0;34m,\u001b[0m \u001b[0;36m3\u001b[0m\u001b[0;34m,\u001b[0m \u001b[0;36m4\u001b[0m\u001b[0;34m,\u001b[0m \u001b[0;36m5\u001b[0m\u001b[0;34m}\u001b[0m\u001b[0;34m\u001b[0m\u001b[0;34m\u001b[0m\u001b[0m\n\u001b[0;32m----> 2\u001b[0;31m \u001b[0mprint\u001b[0m\u001b[0;34m(\u001b[0m\u001b[0mset1\u001b[0m\u001b[0;34m[\u001b[0m\u001b[0;36m4\u001b[0m\u001b[0;34m:\u001b[0m\u001b[0;36m6\u001b[0m\u001b[0;34m]\u001b[0m\u001b[0;34m)\u001b[0m\u001b[0;34m\u001b[0m\u001b[0;34m\u001b[0m\u001b[0m\n\u001b[0m",
            "\u001b[0;31mTypeError\u001b[0m: 'set' object is not subscriptable"
          ]
        }
      ]
    },
    {
      "cell_type": "code",
      "source": [
        "x = 5\n",
        "y = \"5\"\n",
        "if x == y:\n",
        "    print(\"x is equal to y\")\n",
        "else:\n",
        "    print(\"x is not equal to y\")"
      ],
      "metadata": {
        "id": "wAGOQEKpelMy",
        "outputId": "716555fe-ada6-4a9a-8014-095b4332c366",
        "colab": {
          "base_uri": "https://localhost:8080/"
        }
      },
      "execution_count": null,
      "outputs": [
        {
          "output_type": "stream",
          "name": "stdout",
          "text": [
            "x is not equal to y\n"
          ]
        }
      ]
    },
    {
      "cell_type": "code",
      "source": [],
      "metadata": {
        "id": "PhH3_dP1fie7"
      },
      "execution_count": null,
      "outputs": []
    },
    {
      "cell_type": "code",
      "source": [
        "my_string = \"hello world\"\n",
        "print(my_string[-5:-2])\n",
        "print(my_string[13])"
      ],
      "metadata": {
        "colab": {
          "base_uri": "https://localhost:8080/",
          "height": 193
        },
        "id": "I0IBduEQfK1H",
        "outputId": "015ce403-213f-4676-f00e-ed104cea4f8f"
      },
      "execution_count": 13,
      "outputs": [
        {
          "output_type": "stream",
          "name": "stdout",
          "text": [
            "wor\n"
          ]
        },
        {
          "output_type": "error",
          "ename": "IndexError",
          "evalue": "string index out of range",
          "traceback": [
            "\u001b[0;31m---------------------------------------------------------------------------\u001b[0m",
            "\u001b[0;31mIndexError\u001b[0m                                Traceback (most recent call last)",
            "\u001b[0;32m<ipython-input-13-0607d23852fb>\u001b[0m in \u001b[0;36m<cell line: 3>\u001b[0;34m()\u001b[0m\n\u001b[1;32m      1\u001b[0m \u001b[0mmy_string\u001b[0m \u001b[0;34m=\u001b[0m \u001b[0;34m\"hello world\"\u001b[0m\u001b[0;34m\u001b[0m\u001b[0;34m\u001b[0m\u001b[0m\n\u001b[1;32m      2\u001b[0m \u001b[0mprint\u001b[0m\u001b[0;34m(\u001b[0m\u001b[0mmy_string\u001b[0m\u001b[0;34m[\u001b[0m\u001b[0;34m-\u001b[0m\u001b[0;36m5\u001b[0m\u001b[0;34m:\u001b[0m\u001b[0;34m-\u001b[0m\u001b[0;36m2\u001b[0m\u001b[0;34m]\u001b[0m\u001b[0;34m)\u001b[0m\u001b[0;34m\u001b[0m\u001b[0;34m\u001b[0m\u001b[0m\n\u001b[0;32m----> 3\u001b[0;31m \u001b[0mprint\u001b[0m\u001b[0;34m(\u001b[0m\u001b[0mmy_string\u001b[0m\u001b[0;34m[\u001b[0m\u001b[0;36m13\u001b[0m\u001b[0;34m]\u001b[0m\u001b[0;34m)\u001b[0m\u001b[0;34m\u001b[0m\u001b[0;34m\u001b[0m\u001b[0m\n\u001b[0m",
            "\u001b[0;31mIndexError\u001b[0m: string index out of range"
          ]
        }
      ]
    },
    {
      "cell_type": "code",
      "source": [
        "100+ 5* (10+6)\n",
        "\n"
      ],
      "metadata": {
        "colab": {
          "base_uri": "https://localhost:8080/"
        },
        "id": "mwpu04Z8fX5a",
        "outputId": "23d3b7b0-78a8-4c2c-c753-22a676f13f36"
      },
      "execution_count": 12,
      "outputs": [
        {
          "output_type": "execute_result",
          "data": {
            "text/plain": [
              "180"
            ]
          },
          "metadata": {},
          "execution_count": 12
        }
      ]
    },
    {
      "cell_type": "code",
      "source": [
        "my_set = {1, 2, 3, 4, 5}\n",
        "my_set.clear()\n",
        "print(len(my_set))"
      ],
      "metadata": {
        "colab": {
          "base_uri": "https://localhost:8080/"
        },
        "id": "AFTh15xegngT",
        "outputId": "6de3994a-4a79-4838-e778-71328c355222"
      },
      "execution_count": 14,
      "outputs": [
        {
          "output_type": "stream",
          "name": "stdout",
          "text": [
            "0\n"
          ]
        }
      ]
    },
    {
      "cell_type": "code",
      "source": [
        "languages=[\"Python\", \"Java\", \"C\", \"C++\"]\n",
        "for language in languages:\n",
        "    print(language)"
      ],
      "metadata": {
        "colab": {
          "base_uri": "https://localhost:8080/"
        },
        "id": "I83_OW2FhDZ4",
        "outputId": "90c6fca5-410f-402f-f5d8-45e68bd455a0"
      },
      "execution_count": 15,
      "outputs": [
        {
          "output_type": "stream",
          "name": "stdout",
          "text": [
            "Python\n",
            "Java\n",
            "C\n",
            "C++\n"
          ]
        }
      ]
    },
    {
      "cell_type": "code",
      "source": [
        "my_list = [1, 2, 3, 4, 5]\n",
        "print(my_list[1:4:2])"
      ],
      "metadata": {
        "colab": {
          "base_uri": "https://localhost:8080/"
        },
        "id": "Vqyn5_xghTW5",
        "outputId": "f081ae7d-b72f-4eca-a78a-bf89b7e873be"
      },
      "execution_count": 16,
      "outputs": [
        {
          "output_type": "stream",
          "name": "stdout",
          "text": [
            "[2, 4]\n"
          ]
        }
      ]
    },
    {
      "cell_type": "markdown",
      "source": [
        "Prgraming quetions\n"
      ],
      "metadata": {
        "id": "c1oE8kRHlmAc"
      }
    },
    {
      "cell_type": "markdown",
      "source": [
        "Write a Python program to get the smallest number from a list.\n",
        "\n",
        "Example 1:\n",
        "Input:\n",
        "[1, 2, -8, 0]\n",
        "\n",
        "Output:\n",
        "-8"
      ],
      "metadata": {
        "id": "G6ImlrNlls1F"
      }
    },
    {
      "cell_type": "code",
      "source": [
        "l1=eval(input())\n",
        "l2=min(l1)\n",
        "print(l2)"
      ],
      "metadata": {
        "colab": {
          "base_uri": "https://localhost:8080/"
        },
        "id": "DVjPLIcnltb9",
        "outputId": "b97112bd-14ba-421d-b4fa-12e7ba741c90"
      },
      "execution_count": 17,
      "outputs": [
        {
          "output_type": "stream",
          "name": "stdout",
          "text": [
            "[1, 2, -8, 0]\n",
            "-8\n"
          ]
        }
      ]
    },
    {
      "cell_type": "markdown",
      "source": [
        "Write a Python program to print a specified list after removing the 0th, 4th and 5th elements\n",
        "\n",
        "Example 1:\n",
        "Input:\n",
        "['Red', 'Green', 'White', 'Black', 'Pink', 'Yellow']\n",
        "\n",
        "Output:\n",
        "['Green', 'White', 'Black']"
      ],
      "metadata": {
        "id": "P2dKR44LmheW"
      }
    },
    {
      "cell_type": "code",
      "source": [
        "l1=eval(input())\n",
        "l2=list(l1[1:4])\n",
        "print(l2)"
      ],
      "metadata": {
        "colab": {
          "base_uri": "https://localhost:8080/"
        },
        "id": "R9-KOKUvmiOv",
        "outputId": "c1df0dce-ddbc-4f70-d919-0358d4d96209"
      },
      "execution_count": 18,
      "outputs": [
        {
          "output_type": "stream",
          "name": "stdout",
          "text": [
            "['Red', 'Green', 'White', 'Black', 'Pink', 'Yellow']\n",
            "['Green', 'White', 'Black']\n"
          ]
        }
      ]
    },
    {
      "cell_type": "markdown",
      "source": [
        "Write a Python program to append a list to the second list.\n",
        "\n",
        "Example 1:\n",
        "Input:\n",
        "[1, 2, 3, 0]\n",
        "\n",
        "['Red', 'Green', 'Black']\n",
        "\n",
        "Output:\n",
        "[1, 2, 3, 0, 'Red', 'Green', 'Black']"
      ],
      "metadata": {
        "id": "4iEuOX9SnbZl"
      }
    },
    {
      "cell_type": "code",
      "source": [
        "list1 = eval(input())\n",
        "list2 = eval(input())\n",
        "print(list1+list2)"
      ],
      "metadata": {
        "colab": {
          "base_uri": "https://localhost:8080/"
        },
        "id": "c8bWo2JhncDu",
        "outputId": "4d7e6e79-9769-4eb6-cb80-05ececc2fecb"
      },
      "execution_count": 19,
      "outputs": [
        {
          "output_type": "stream",
          "name": "stdout",
          "text": [
            "[1, 2, 3, 0]\n",
            "['Red', 'Green', 'Black']\n",
            "[1, 2, 3, 0, 'Red', 'Green', 'Black']\n"
          ]
        }
      ]
    },
    {
      "cell_type": "markdown",
      "source": [
        "Write a Python program to test whether all numbers of a list is greater than a certain number.\n",
        "\n",
        "Example 1:\n",
        "Input:\n",
        "[2, 3, 4, 5]\n",
        "\n",
        "1\n",
        "\n",
        "Output:\n",
        "True"
      ],
      "metadata": {
        "id": "8AyQ4-qquXGO"
      }
    },
    {
      "cell_type": "code",
      "source": [
        "l1=eval(input())\n",
        "n=int(input())\n",
        "print(all(i>n for i in l1))"
      ],
      "metadata": {
        "colab": {
          "base_uri": "https://localhost:8080/"
        },
        "id": "nMbdrK3zuXoN",
        "outputId": "6408500f-9d52-4817-8d57-b28384cd2d67"
      },
      "execution_count": 20,
      "outputs": [
        {
          "output_type": "stream",
          "name": "stdout",
          "text": [
            "[2, 3, 4, 5]\n",
            "1\n",
            "True\n"
          ]
        }
      ]
    },
    {
      "cell_type": "markdown",
      "source": [
        "Write a Python program to check a triangle is equilateral, isosceles or scalene. Note : An equilateral triangle is a triangle in which all three sides are equal. A scalene triangle is a triangle that has three unequal sides. An isosceles triangle is a triangle with (at least) two equal sides.\n",
        "\n",
        "Example 1:\n",
        "Input:\n",
        "6\n",
        "\n",
        "8\n",
        "\n",
        "12\n",
        "\n",
        "Output:\n",
        "Scalene triangle"
      ],
      "metadata": {
        "id": "dGhOkIskzXOh"
      }
    },
    {
      "cell_type": "code",
      "source": [
        "s1=eval(input())\n",
        "s2=eval(input())\n",
        "s3=eval(input())\n",
        "if s1!=s2!=s3:\n",
        "  print(\"Scalene triangle\")\n",
        "elif s1==s2==s3:\n",
        "  print(\"Equilateral triangle\")\n",
        "elif s1==s2 or s2==s3 or s1==s3:\n",
        "  print(\"Isosceles triangle\")\n",
        "else:\n",
        "  print(\"Check the sides value proper\")"
      ],
      "metadata": {
        "colab": {
          "base_uri": "https://localhost:8080/"
        },
        "id": "h4SS_PxfzXxg",
        "outputId": "58a87b1f-4991-4a56-9451-e3b6e6fabb8c"
      },
      "execution_count": 21,
      "outputs": [
        {
          "output_type": "stream",
          "name": "stdout",
          "text": [
            "12\n",
            "6\n",
            "6\n",
            "Isosceles triangle\n"
          ]
        }
      ]
    }
  ]
}