{
  "nbformat": 4,
  "nbformat_minor": 0,
  "metadata": {
    "colab": {
      "provenance": [],
      "include_colab_link": true
    },
    "kernelspec": {
      "name": "python3",
      "display_name": "Python 3"
    },
    "language_info": {
      "name": "python"
    }
  },
  "cells": [
    {
      "cell_type": "markdown",
      "metadata": {
        "id": "view-in-github",
        "colab_type": "text"
      },
      "source": [
        "<a href=\"https://colab.research.google.com/github/Sanket2iconic/Google-colab-files/blob/main/Numpy.ipynb\" target=\"_parent\"><img src=\"https://colab.research.google.com/assets/colab-badge.svg\" alt=\"Open In Colab\"/></a>"
      ]
    },
    {
      "cell_type": "markdown",
      "source": [
        "# Machine learning Libraries\n",
        "*Numpy\n",
        "\n",
        "*Pandas\n",
        "\n",
        "*Seaborn/matplotlib"
      ],
      "metadata": {
        "id": "GOG5MBgo8O74"
      }
    },
    {
      "cell_type": "markdown",
      "source": [
        "#Module\n",
        "its a file which includes all the class, function and method related to topic wich can be used\n",
        "\n",
        "eg.\n",
        "\n",
        "1)"
      ],
      "metadata": {
        "id": "DIPQTPEI9GZP"
      }
    },
    {
      "cell_type": "markdown",
      "source": [
        "#Package / Library\n",
        "\n",
        "Package/Library is contain number of modules and clases\n"
      ],
      "metadata": {
        "id": "tKLVVoSG_Jx8"
      }
    },
    {
      "cell_type": "markdown",
      "source": [
        "#Numpy\n",
        "\n",
        "\n",
        "\n",
        "*  Used for data analysis and mathematical computation\n",
        "* helps to create arrays and matrices\n",
        "* helps to  solve complex mathematical problem (linear algebra, fourier transform, matrix)\n",
        "\n"
      ],
      "metadata": {
        "id": "oTDbwxAaADLr"
      }
    },
    {
      "cell_type": "code",
      "source": [
        "!pip install numpy"
      ],
      "metadata": {
        "id": "rXRYlgyYD3rN",
        "outputId": "e3d81696-054a-4c3b-e9b2-1c91ec0a7b61",
        "colab": {
          "base_uri": "https://localhost:8080/"
        }
      },
      "execution_count": 2,
      "outputs": [
        {
          "output_type": "stream",
          "name": "stdout",
          "text": [
            "Requirement already satisfied: numpy in /usr/local/lib/python3.10/dist-packages (1.25.2)\n"
          ]
        }
      ]
    },
    {
      "cell_type": "code",
      "source": [
        "import numpy as np"
      ],
      "metadata": {
        "id": "2Oo-VwyN9HXZ"
      },
      "execution_count": 4,
      "outputs": []
    },
    {
      "cell_type": "code",
      "source": [
        "a=np.array(100)\n",
        "print(a)\n",
        "print(\"type\",type(a))\n",
        "print(\"data type\",a.dtype)\n",
        "print(\"shape ( no of rows and column)\",a.shape)\n",
        "print(\"size\",a.size)\n",
        "print(\"dimension\",a.ndim)\n"
      ],
      "metadata": {
        "id": "2XO5IMuaDIRs",
        "outputId": "c20bf4a1-1f0e-4959-d5b9-bcb78d906920",
        "colab": {
          "base_uri": "https://localhost:8080/"
        }
      },
      "execution_count": 5,
      "outputs": [
        {
          "output_type": "stream",
          "name": "stdout",
          "text": [
            "100\n",
            "type <class 'numpy.ndarray'>\n",
            "data type int64\n",
            "shape ( no of rows and column) ()\n",
            "size 1\n",
            "dimension 0\n"
          ]
        }
      ]
    },
    {
      "cell_type": "code",
      "source": [
        "# we can pass list, tuple or array like object. It will converted to ndarray\n",
        "#0D -scalar"
      ],
      "metadata": {
        "id": "vMFY4P9kG5cY"
      },
      "execution_count": 1,
      "outputs": []
    },
    {
      "cell_type": "code",
      "source": [
        "y=np.array((1,2,3,4,5))\n",
        "print(y)\n",
        "print(type(y))\n",
        "print(y.ndim)"
      ],
      "metadata": {
        "id": "DslWgHq-mjaP",
        "outputId": "e6146181-e247-4124-bc48-d583f204e6ef",
        "colab": {
          "base_uri": "https://localhost:8080/"
        }
      },
      "execution_count": 11,
      "outputs": [
        {
          "output_type": "stream",
          "name": "stdout",
          "text": [
            "[1 2 3 4 5]\n",
            "<class 'numpy.ndarray'>\n",
            "1\n"
          ]
        }
      ]
    },
    {
      "cell_type": "code",
      "source": [
        "# Lets make 0D array\n",
        "x=np.array(42)\n",
        "print(x)\n",
        "print(type(x))\n",
        "print(x.ndim)"
      ],
      "metadata": {
        "id": "JOiRf9dTmxdg",
        "outputId": "0ab3ef5c-b50f-4d0e-fb53-30970b47f742",
        "colab": {
          "base_uri": "https://localhost:8080/"
        }
      },
      "execution_count": 12,
      "outputs": [
        {
          "output_type": "stream",
          "name": "stdout",
          "text": [
            "42\n",
            "<class 'numpy.ndarray'>\n",
            "0\n"
          ]
        }
      ]
    },
    {
      "cell_type": "code",
      "source": [
        "#lets make 1D array (Unidirectional arrays) consist 0D array\n",
        "a=np.array([1,2,2,3,4,5])\n",
        "print(a)\n",
        "print(type(a))\n",
        "print(a.ndim)"
      ],
      "metadata": {
        "id": "Q9XP4XFMn3an",
        "outputId": "fb4627cf-175e-4b57-ac23-b7d5abdd42d9",
        "colab": {
          "base_uri": "https://localhost:8080/"
        }
      },
      "execution_count": 15,
      "outputs": [
        {
          "output_type": "stream",
          "name": "stdout",
          "text": [
            "[1 2 2 3 4 5]\n",
            "<class 'numpy.ndarray'>\n",
            "1\n"
          ]
        }
      ]
    },
    {
      "cell_type": "code",
      "source": [
        "#lets make 2d array - conntain two 1d array\n",
        "b=np.array([[1,2,3],[4,5,6]])\n",
        "print(b)\n",
        "print(type(b))\n",
        "print(b.ndim)"
      ],
      "metadata": {
        "id": "JegqUCJboUdK",
        "outputId": "4e455281-a65b-4e47-e8fb-f0ecc35b6bd2",
        "colab": {
          "base_uri": "https://localhost:8080/"
        }
      },
      "execution_count": 19,
      "outputs": [
        {
          "output_type": "stream",
          "name": "stdout",
          "text": [
            "[[1 2 3]\n",
            " [4 5 6]]\n",
            "<class 'numpy.ndarray'>\n",
            "2\n"
          ]
        }
      ]
    },
    {
      "cell_type": "code",
      "source": [
        "#lets make 3d array contain two 2D arrays\n",
        "a=np.array([[[1,2,3],[4,5,6]],[[1,2,3],[4,5,6]]])\n",
        "print(a)\n",
        "print(type(a))\n",
        "print(a.ndim) #check how many dimentionas array has"
      ],
      "metadata": {
        "id": "FPVhijVWo5M6",
        "outputId": "c21a1075-c53a-48f1-f086-7b931685dbef",
        "colab": {
          "base_uri": "https://localhost:8080/"
        }
      },
      "execution_count": 21,
      "outputs": [
        {
          "output_type": "stream",
          "name": "stdout",
          "text": [
            "[[[1 2 3]\n",
            "  [4 5 6]]\n",
            "\n",
            " [[1 2 3]\n",
            "  [4 5 6]]]\n",
            "<class 'numpy.ndarray'>\n",
            "3\n"
          ]
        }
      ]
    },
    {
      "cell_type": "code",
      "source": [
        "#lets make 4d array\n",
        "aa = np.array([[[[1, 2, 3], [4, 5, 6]], [[1, 2, 3], [4, 5, 6]]], [[[1, 2, 3], [4, 5, 6]], [[1, 2, 3], [4, 5, 6]]]])\n",
        "print(aa)\n",
        "print(type(aa))\n",
        "print(aa.ndim)\n"
      ],
      "metadata": {
        "id": "Gi1P8d2HqMyR",
        "outputId": "ccd1f511-37a2-48b2-e126-2e8ce25daf92",
        "colab": {
          "base_uri": "https://localhost:8080/"
        }
      },
      "execution_count": 26,
      "outputs": [
        {
          "output_type": "stream",
          "name": "stdout",
          "text": [
            "[[[[1 2 3]\n",
            "   [4 5 6]]\n",
            "\n",
            "  [[1 2 3]\n",
            "   [4 5 6]]]\n",
            "\n",
            "\n",
            " [[[1 2 3]\n",
            "   [4 5 6]]\n",
            "\n",
            "  [[1 2 3]\n",
            "   [4 5 6]]]]\n",
            "<class 'numpy.ndarray'>\n",
            "4\n"
          ]
        }
      ]
    },
    {
      "cell_type": "code",
      "source": [
        "a=np.array([1,2,3,4,5],ndmin=5)\n",
        "print(a)"
      ],
      "metadata": {
        "id": "5MjOkbOAoj-c",
        "outputId": "3aa0697a-611c-4476-a069-367fe3e2a492",
        "colab": {
          "base_uri": "https://localhost:8080/"
        }
      },
      "execution_count": 33,
      "outputs": [
        {
          "output_type": "stream",
          "name": "stdout",
          "text": [
            "[[[[[1 2 3 4 5]]]]]\n"
          ]
        }
      ]
    },
    {
      "cell_type": "markdown",
      "source": [
        "#array indexing"
      ],
      "metadata": {
        "id": "HQ5oyCPbs86W"
      }
    },
    {
      "cell_type": "code",
      "source": [],
      "metadata": {
        "id": "S4vObhJyruMQ"
      },
      "execution_count": null,
      "outputs": []
    }
  ]
}