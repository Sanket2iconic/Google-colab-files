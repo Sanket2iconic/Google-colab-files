{
  "nbformat": 4,
  "nbformat_minor": 0,
  "metadata": {
    "colab": {
      "provenance": [],
      "authorship_tag": "ABX9TyP/uIlTbyKkbEe6JiKDXUnU",
      "include_colab_link": true
    },
    "kernelspec": {
      "name": "python3",
      "display_name": "Python 3"
    },
    "language_info": {
      "name": "python"
    }
  },
  "cells": [
    {
      "cell_type": "markdown",
      "metadata": {
        "id": "view-in-github",
        "colab_type": "text"
      },
      "source": [
        "<a href=\"https://colab.research.google.com/github/Sanket2iconic/Google-colab-files/blob/main/Recursion_Unit2.ipynb\" target=\"_parent\"><img src=\"https://colab.research.google.com/assets/colab-badge.svg\" alt=\"Open In Colab\"/></a>"
      ]
    },
    {
      "cell_type": "markdown",
      "source": [
        "#function call Itself\n",
        "\n",
        "---\n",
        "directly or indirectly\n",
        "\n",
        "\n",
        "---\n",
        "base case - terminatio point / prevent infinite recursion\n",
        "\n",
        "---\n",
        "recursive case -\n",
        "\n"
      ],
      "metadata": {
        "id": "oA_4GoS9PrOr"
      }
    },
    {
      "cell_type": "markdown",
      "source": [
        "\n",
        "\n",
        "---\n",
        "\n",
        "\n",
        "\n",
        "---\n",
        "\n",
        "\n",
        "\n",
        "---\n",
        "\n",
        "\n",
        "\n",
        "---\n",
        "\n",
        "\n",
        "\n",
        "---\n",
        "\n"
      ],
      "metadata": {
        "id": "jd7TRCL39nO9"
      }
    },
    {
      "cell_type": "code",
      "source": [
        "fact=1\n",
        "for i in range(1,6):\n",
        "  fact=fact+i\n",
        "  print(fact)"
      ],
      "metadata": {
        "colab": {
          "base_uri": "https://localhost:8080/",
          "height": 0
        },
        "id": "CvR7TZyURoiV",
        "outputId": "38005f55-8036-4fb4-96aa-bc619bb9a06b"
      },
      "execution_count": 2,
      "outputs": [
        {
          "output_type": "stream",
          "name": "stdout",
          "text": [
            "2\n",
            "4\n",
            "7\n",
            "11\n",
            "16\n"
          ]
        }
      ]
    },
    {
      "cell_type": "code",
      "execution_count": 1,
      "metadata": {
        "colab": {
          "base_uri": "https://localhost:8080/",
          "height": 243
        },
        "id": "FOjcwl5TPVjf",
        "outputId": "986ed0d0-2542-4f36-badd-01f85f9a4dfc"
      },
      "outputs": [
        {
          "name": "stdout",
          "output_type": "stream",
          "text": [
            "Enter a number: 5\n",
            "Your entered number is 5\n",
            "To proceed further press 'y' else press 'n': y\n",
            "Showing factorials till: 5\n",
            "Number 1 has factorial = 1\n",
            "Number 2 has factorial = 2\n",
            "Number 3 has factorial = 6\n",
            "Number 4 has factorial = 24\n",
            "Number 5 has factorial = 120\n",
            "Factorial of 5 is 120\n",
            "Thank you\n",
            "Press Enter to exit...\n"
          ]
        },
        {
          "output_type": "execute_result",
          "data": {
            "text/plain": [
              "''"
            ],
            "application/vnd.google.colaboratory.intrinsic+json": {
              "type": "string"
            }
          },
          "metadata": {},
          "execution_count": 1
        }
      ],
      "source": [
        "fact = 1\n",
        "num = int(input(\"Enter a number: \"))\n",
        "print(\"Your entered number is\", num)\n",
        "validation = input(\"To proceed further press 'y' else press 'n': \")\n",
        "\n",
        "if validation == 'y':\n",
        "    if num == 0:\n",
        "        print(f\"Factorial of {num} is 1\")\n",
        "        print(\"Thank you\")\n",
        "    else:\n",
        "        print(\"Showing factorials till:\", num)\n",
        "        for i in range(1, num + 1):\n",
        "            fact = fact * i\n",
        "            print(\"Number\", i, 'has factorial =', fact)\n",
        "        print(f\"Factorial of {num} is {fact}\")\n",
        "        print(\"Thank you\")\n",
        "else:\n",
        "    print(\"Thank you\")\n",
        "\n",
        "input(\"Press Enter to exit...\")  # This line keeps the console window open0"
      ]
    },
    {
      "cell_type": "code",
      "source": [
        "def factorial(num):\n",
        "  if num == 0:\n",
        "    return 1 #base case - terminatio point / prevent infinite recursion\n",
        "  else:\n",
        "    return num * factorial(num-1) #recursive case\n",
        "\n",
        "num=int(input())\n",
        "print(factorial(num))\n"
      ],
      "metadata": {
        "colab": {
          "base_uri": "https://localhost:8080/"
        },
        "id": "oL7CxQwdS_PI",
        "outputId": "ad7eabd9-b4dc-4b76-95f3-5e8d65a311fa"
      },
      "execution_count": 13,
      "outputs": [
        {
          "output_type": "stream",
          "name": "stdout",
          "text": [
            "100\n",
            "93326215443944152681699238856266700490715968264381621468592963895217599993229915608941463976156518286253697920827223758251185210916864000000000000000000000000\n"
          ]
        }
      ]
    },
    {
      "cell_type": "markdown",
      "source": [
        "\n",
        "\n",
        "---\n",
        "\n",
        "\n",
        "\n",
        "---\n",
        "\n",
        "\n",
        "\n",
        "---\n",
        "\n",
        "\n",
        "\n",
        "---\n",
        "\n"
      ],
      "metadata": {
        "id": "VuJZya3d9iFa"
      }
    },
    {
      "cell_type": "markdown",
      "source": [
        "#key sequence"
      ],
      "metadata": {
        "id": "mVj5VRp39e7l"
      }
    },
    {
      "cell_type": "code",
      "source": [
        "num=int(input())\n",
        "def febonacci(num):\n",
        "  if num == 0:\n",
        "    return 0\n",
        "  elif num == 1:\n",
        "    return 1\n",
        "  else:\n",
        "    return febonacci(num-2)+febonacci(num-1)\n",
        "\n",
        "feb=[]\n",
        "for i in range(num):\n",
        "  feb.append(febonacci(i))\n",
        "print(*feb)\n",
        "print(febonacci(num))\n"
      ],
      "metadata": {
        "colab": {
          "base_uri": "https://localhost:8080/"
        },
        "id": "Gx2WQXqE5ZW2",
        "outputId": "76d2d343-c203-4b4a-cba2-4e209961e306"
      },
      "execution_count": 34,
      "outputs": [
        {
          "output_type": "stream",
          "name": "stdout",
          "text": [
            "5\n",
            "0 1 1 2 3\n",
            "5\n"
          ]
        }
      ]
    },
    {
      "cell_type": "code",
      "source": [
        "num=int(input())\n",
        "def tribo(num):\n",
        "  if num == 0 or num==1:\n",
        "    return 0\n",
        "  elif num == 2:\n",
        "    return 1\n",
        "  else:\n",
        "    return tribo(num-3)+tribo(num-2)+tribo(num-1)\n",
        "\n",
        "tribb=[]\n",
        "for i in range(num):\n",
        "  tribb.append(tribo(i))\n",
        "print(*tribb)\n",
        "print(tribo(num))"
      ],
      "metadata": {
        "colab": {
          "base_uri": "https://localhost:8080/"
        },
        "id": "dasiw814-UKy",
        "outputId": "5c836a52-80e2-4659-a30c-e5d58a654cae"
      },
      "execution_count": 33,
      "outputs": [
        {
          "output_type": "stream",
          "name": "stdout",
          "text": [
            "5\n",
            "0 0 1 1 2\n",
            "4\n"
          ]
        }
      ]
    },
    {
      "cell_type": "code",
      "source": [
        "def lyear(num):\n",
        "  if num%4==0:\n",
        "    if num%100==0:\n",
        "      if num%400==0:\n",
        "        return True ,('it is a leap year')\n",
        "      else:\n",
        "        return False\n",
        "    else:\n",
        "      return True,(\"\"\"it is a leap year\"\"\")\n",
        "  else:\n",
        "    return False\n",
        "\n",
        "num=int(input())\n",
        "print(lyear(num))"
      ],
      "metadata": {
        "colab": {
          "base_uri": "https://localhost:8080/"
        },
        "id": "8Kp0Vqn5EgCz",
        "outputId": "0eee8a42-a989-4f27-bad3-b5716806be6c"
      },
      "execution_count": 44,
      "outputs": [
        {
          "output_type": "stream",
          "name": "stdout",
          "text": [
            "100\n",
            "False\n"
          ]
        }
      ]
    }
  ]
}