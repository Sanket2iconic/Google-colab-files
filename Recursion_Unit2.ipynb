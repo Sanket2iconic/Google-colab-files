{
  "nbformat": 4,
  "nbformat_minor": 0,
  "metadata": {
    "colab": {
      "provenance": [],
      "authorship_tag": "ABX9TyOkQgFb3Dn33ggAlvHCxVeX",
      "include_colab_link": true
    },
    "kernelspec": {
      "name": "python3",
      "display_name": "Python 3"
    },
    "language_info": {
      "name": "python"
    }
  },
  "cells": [
    {
      "cell_type": "markdown",
      "metadata": {
        "id": "view-in-github",
        "colab_type": "text"
      },
      "source": [
        "<a href=\"https://colab.research.google.com/github/Sanket2iconic/Google-colab-files/blob/main/Recursion_Unit2.ipynb\" target=\"_parent\"><img src=\"https://colab.research.google.com/assets/colab-badge.svg\" alt=\"Open In Colab\"/></a>"
      ]
    },
    {
      "cell_type": "markdown",
      "source": [
        "#function call Itself\n",
        "\n",
        "---\n",
        "directly or indirectly\n",
        "\n",
        "\n",
        "---\n",
        "base case - terminatio point / prevent infinite recursion\n",
        "\n",
        "---\n",
        "recursive case -\n",
        "\n"
      ],
      "metadata": {
        "id": "oA_4GoS9PrOr"
      }
    },
    {
      "cell_type": "code",
      "source": [
        "fact=1\n",
        "for i in range(1,6):\n",
        "  fact=fact+i\n",
        "  print(fact)"
      ],
      "metadata": {
        "colab": {
          "base_uri": "https://localhost:8080/",
          "height": 0
        },
        "id": "CvR7TZyURoiV",
        "outputId": "38005f55-8036-4fb4-96aa-bc619bb9a06b"
      },
      "execution_count": 2,
      "outputs": [
        {
          "output_type": "stream",
          "name": "stdout",
          "text": [
            "2\n",
            "4\n",
            "7\n",
            "11\n",
            "16\n"
          ]
        }
      ]
    },
    {
      "cell_type": "code",
      "execution_count": 28,
      "metadata": {
        "colab": {
          "base_uri": "https://localhost:8080/",
          "height": 139
        },
        "id": "FOjcwl5TPVjf",
        "outputId": "43b7b7e2-5f7a-40e3-af09-7c9323adfd7a"
      },
      "outputs": [
        {
          "name": "stdout",
          "output_type": "stream",
          "text": [
            "Enter a number: 0\n",
            "Your entered number is 0\n",
            "To proceed further press 'y' else press 'n': y\n",
            "Factorial of 0 is 1\n",
            "Thank you\n",
            "Press Enter to exit...\n"
          ]
        },
        {
          "output_type": "execute_result",
          "data": {
            "text/plain": [
              "''"
            ],
            "application/vnd.google.colaboratory.intrinsic+json": {
              "type": "string"
            }
          },
          "metadata": {},
          "execution_count": 28
        }
      ],
      "source": [
        "fact = 1\n",
        "num = int(input(\"Enter a number: \"))\n",
        "print(\"Your entered number is\", num)\n",
        "validation = input(\"To proceed further press 'y' else press 'n': \")\n",
        "\n",
        "if validation == 'y':\n",
        "    if num == 0:\n",
        "        print(f\"Factorial of {num} is 1\")\n",
        "        print(\"Thank you\")\n",
        "    else:\n",
        "        print(\"Showing factorials till:\", num)\n",
        "        for i in range(1, num + 1):\n",
        "            fact = fact * i\n",
        "            print(\"Number\", i, 'has factorial =', fact)\n",
        "        print(f\"Factorial of {num} is {fact}\")\n",
        "        print(\"Thank you\")\n",
        "else:\n",
        "    print(\"Thank you\")\n",
        "\n",
        "input(\"Press Enter to exit...\")  # This line keeps the console window open0"
      ]
    },
    {
      "cell_type": "code",
      "source": [],
      "metadata": {
        "id": "oL7CxQwdS_PI"
      },
      "execution_count": null,
      "outputs": []
    }
  ]
}